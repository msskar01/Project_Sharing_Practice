{
 "cells": [
  {
   "cell_type": "markdown",
   "id": "3bf4ec48",
   "metadata": {},
   "source": [
    "## Torch Math Operations\n",
    "Functions for manipulating the content of the tensor through computaton\n",
    "\n",
    "- Pointwise ops—Functions for obtaining a new tensor by applying a function to\n",
    "each element independently, like abs and cos\n",
    "- Reduction ops—Functions for computing aggregate values by iterating\n",
    "through tensors, like mean, std, and norm\n",
    "- Comparison ops—Functions for evaluating numerical predicates over tensors,\n",
    "like equal and max\n",
    "- Spectral ops—Functions for transforming in and operating in the frequency\n",
    "domain, like stft and hamming_window\n",
    "- Other operations—Special functions operating on vectors, like cross, or matrices,\n",
    "like trace\n",
    "- BLAS and LAPACK operations—Functions following the Basic Linear Algebra\n",
    "Subprograms (BLAS) specification for scalar, vector-vector, matrix-vector,\n",
    "and matrix-matrix operations"
   ]
  },
  {
   "cell_type": "code",
   "execution_count": 1,
   "id": "327f4f33",
   "metadata": {},
   "outputs": [
    {
     "data": {
      "text/plain": [
       "'1.8.0+cu111'"
      ]
     },
     "execution_count": 1,
     "metadata": {},
     "output_type": "execute_result"
    }
   ],
   "source": [
    "import torch\n",
    "torch.__version__"
   ]
  },
  {
   "cell_type": "code",
   "execution_count": 2,
   "id": "41902f78",
   "metadata": {},
   "outputs": [
    {
     "data": {
      "text/plain": [
       "tensor([[-2.0029, -0.6807, -0.3223, -0.9472,  0.6192],\n",
       "        [-0.7948, -0.8724, -0.8689, -1.3111,  0.6606],\n",
       "        [ 0.2405,  1.9422, -0.4261,  0.4261, -1.0424]])"
      ]
     },
     "execution_count": 2,
     "metadata": {},
     "output_type": "execute_result"
    }
   ],
   "source": [
    "a = torch.randn(3,5) # 2D matrix\n",
    "a"
   ]
  },
  {
   "cell_type": "code",
   "execution_count": 3,
   "id": "2462a3b0",
   "metadata": {},
   "outputs": [
    {
     "data": {
      "text/plain": [
       "tensor([[0.0374, 0.1402, 0.2006, 0.1074, 0.5144],\n",
       "        [0.1293, 0.1196, 0.1200, 0.0771, 0.5540],\n",
       "        [0.1180, 0.6468, 0.0606, 0.1420, 0.0327]])"
      ]
     },
     "execution_count": 3,
     "metadata": {},
     "output_type": "execute_result"
    }
   ],
   "source": [
    "# Compute softmax of eeach row of a\n",
    "a_softmax = a.exp()/a.exp().sum(1).unsqueeze(1)\n",
    "a_softmax"
   ]
  },
  {
   "cell_type": "code",
   "execution_count": 4,
   "id": "9864a85e",
   "metadata": {},
   "outputs": [
    {
     "data": {
      "text/plain": [
       "tensor([[1.0000],\n",
       "        [1.0000],\n",
       "        [1.0000]])"
      ]
     },
     "execution_count": 4,
     "metadata": {},
     "output_type": "execute_result"
    }
   ],
   "source": [
    "a_softmax.sum(1).unsqueeze(1)"
   ]
  },
  {
   "cell_type": "code",
   "execution_count": 5,
   "id": "9b75e87b",
   "metadata": {},
   "outputs": [
    {
     "data": {
      "text/plain": [
       "tensor([[4],\n",
       "        [4],\n",
       "        [1]])"
      ]
     },
     "execution_count": 5,
     "metadata": {},
     "output_type": "execute_result"
    }
   ],
   "source": [
    "# Reduction function : argmax Returns the indices of the maximum value of \n",
    "# all elements in the input tensor.\n",
    "a_softmax.argmax(1).unsqueeze(1)\n"
   ]
  },
  {
   "cell_type": "markdown",
   "id": "fa23b0e6",
   "metadata": {},
   "source": [
    "## BLAS and LAPACK operations\n",
    "\n",
    "https://pytorch.org/docs/stable/torch.html \n",
    "\n",
    "- code>addmv</code>\n",
    "\n",
    "Performs a matrix-vector product of the matrix mat and the vector vec.\n",
    "\n",
    "- <code>addr</code>\n",
    "\n",
    "Performs the outer-product of vectors vec1 and vec2 and adds it to the matrix input.\n",
    "\n",
    "- <code>baddbmm</code>\n",
    "\n",
    "Performs a batch matrix-matrix product of matrices in batch1 and batch2.\n",
    "\n",
    "- <code>bmm</code>\n",
    "\n",
    "Performs a batch matrix-matrix product of matrices stored in input and mat2.\n",
    "\n",
    "- <code>chain_matmul</code>\n",
    "\n",
    "Returns the matrix product of the NN 2-D tensors.\n",
    "\n",
    "- <code>cholesky</code>\n",
    "\n",
    "Computes the Cholesky decomposition of a symmetric positive-definite matrix AA or for batches of symmetric positive-definite matrices.\n",
    "\n",
    "- <code>cholesky_inverse</code>\n",
    "\n",
    "Computes the inverse of a symmetric positive-definite matrix AA using its Cholesky factor uu: returns matrix inv.\n",
    "\n",
    "- <code>cholesky_solve</code>\n",
    "\n",
    "Solves a linear system of equations with a positive semidefinite matrix to be inverted given its Cholesky factor matrix uu.\n",
    "\n",
    "- <code>dot</code>\n",
    "\n",
    "Computes the dot product of two 1D tensors.\n",
    "\n",
    "- <code>eig</code>\n",
    "\n",
    "Computes the eigenvalues and eigenvectors of a real square matrix.\n",
    "\n",
    "- <code>geqrf</code>\n",
    "\n",
    "This is a low-level function for calling LAPACK’s geqrf directly.\n",
    "\n",
    "- <code>ger</code>\n",
    "\n",
    "Alias of torch.outer().\n",
    "\n",
    "- <code>inner</code>\n",
    "\n",
    "Computes the dot product for 1D tensors.\n",
    "\n",
    "- <code>inverse</code>\n",
    "\n",
    "Alias for torch.linalg.inv()\n",
    "\n",
    "- <code>det</code>\n",
    "\n",
    "Alias for torch.linalg.det()\n",
    "\n",
    "- <code>logdet</code>\n",
    "\n",
    "Calculates log determinant of a square matrix or batches of square matrices.\n",
    "\n",
    "- <code>slogdet</code>\n",
    "\n",
    "Alias for torch.linalg.slogdet()\n",
    "\n",
    "- <code>lstsq</code>\n",
    "\n",
    "Computes the solution to the least squares and least norm problems for a full rank matrix AA of size (m \\times n)(m×n) and a matrix BB of size (m \\times k)(m×k).\n",
    "\n",
    "- <code>lu</code>\n",
    "\n",
    "Computes the LU factorization of a matrix or batches of matrices A.\n",
    "\n",
    "- <code>lu_solve</code>\n",
    "\n",
    "Returns the LU solve of the linear system Ax = bAx=b using the partially pivoted LU factorization of A from torch.lu().\n",
    "\n",
    "- <code>lu_unpack</code>\n",
    "\n",
    "Unpacks the data and pivots from a LU factorization of a tensor into tensors L and U and a permutation tensor P such that LU_data, LU_pivots = (P @ L @ U).lu().\n",
    "\n",
    "- <code>matmul</code>\n",
    "\n",
    "Matrix product of two tensors.\n",
    "\n",
    "- <code>atrix_power</code>\n",
    "\n",
    "Alias for torch.linalg.matrix_power()\n",
    "\n",
    "- <code>matrix_rank</code>\n",
    "\n",
    "Returns the numerical rank of a 2-D tensor.\n",
    "\n",
    "- <code>matrix_exp</code>\n",
    "\n",
    "Computes the matrix exponential of a square matrix or of each square matrix in a batch.\n",
    "\n",
    "- <code>mm</code>\n",
    "\n",
    "Performs a matrix multiplication of the matrices input and mat2.\n",
    "\n",
    "- <code>mv</code>\n",
    "\n",
    "Performs a matrix-vector product of the matrix input and the vector vec.\n",
    "\n",
    "- <code>orgqr</code>\n",
    "\n",
    "Alias for torch.linalg.householder_product().\n",
    "\n",
    "- <code>ormqr</code>\n",
    "\n",
    "Computes the matrix-matrix multiplication of a product of Householder matrices with a general matrix.\n",
    "\n",
    "- <code>outer</code>\n",
    "\n",
    "Outer product of input and vec2.\n",
    "\n",
    "- <code>pinverse</code>\n",
    "\n",
    "Alias for torch.linalg.pinv()\n",
    "\n",
    "- <code>qr</code>\n",
    "\n",
    "Computes the QR decomposition of a matrix or a batch of matrices input, and returns a namedtuple (Q, R) of tensors such that \\text{input} = Q Rinput=QR with QQ being an orthogonal matrix or batch of orthogonal matrices and RR being an upper triangular matrix or batch of upper triangular matrices.\n",
    "\n",
    "- <code>solve</code>\n",
    "\n",
    "This function returns the solution to the system of linear equations represented by AX = BAX=B and the LU factorization of A, in order as a namedtuple solution, LU.\n",
    "\n",
    "- <code>svd</code>\n",
    "\n",
    "Computes the singular value decomposition of either a matrix or batch of matrices input.\n",
    "\n",
    "- <code>svd_lowrank</code>\n",
    "\n",
    "Return the singular value decomposition (U, S, V) of a matrix, batches of matrices, or a sparse matrix AA such that A \\approx U diag(S) V^TA≈Udiag(S)V \n",
    "T\n",
    " .\n",
    "\n",
    "- <code>pca_lowrank</code>\n",
    "\n",
    "Performs linear Principal Component Analysis (PCA) on a low-rank matrix, batches of such matrices, or sparse matrix.\n",
    "\n",
    "- <code>symeig</code>\n",
    "\n",
    "This function returns eigenvalues and eigenvectors of a real symmetric or complex Hermitian matrix input or a batch thereof, represented by a namedtuple (eigenvalues, eigenvectors).\n",
    "\n",
    "- <code>lobpcg</code>\n",
    "\n",
    "Find the k largest (or smallest) eigenvalues and the corresponding eigenvectors of a symmetric positive defined generalized eigenvalue problem using matrix-free LOBPCG methods.\n",
    "\n",
    "- <code>trapz</code>\n",
    "\n",
    "Alias for torch.trapezoid().\n",
    "\n",
    "- <code>trapezoid</code>\n",
    "\n",
    "Computes the trapezoidal rule along dim.\n",
    "\n",
    "- <code>cumulative_trapezoid</code>\n",
    "\n",
    "Cumulatively computes the trapezoidal rule along dim.\n",
    "\n",
    "- <code>triangular_solve</code>\n",
    "\n",
    "Solves a system of equations with a triangular coefficient matrix AA and multiple right-hand sides bb.\n",
    "\n",
    "- <code>vdot</code>\n",
    "\n",
    "Computes the dot product of two 1D tensors."
   ]
  },
  {
   "cell_type": "code",
   "execution_count": 6,
   "id": "150d3cba",
   "metadata": {},
   "outputs": [],
   "source": [
    "a = torch.ones(6400, 6400, dtype = torch.float32)\n",
    "b = torch.ones(6400, 6400, dtype = torch.float32)"
   ]
  },
  {
   "cell_type": "code",
   "execution_count": 7,
   "id": "045bb7d5",
   "metadata": {},
   "outputs": [
    {
     "name": "stdout",
     "output_type": "stream",
     "text": [
      "Wall time: 1.12 s\n"
     ]
    }
   ],
   "source": [
    "%%time\n",
    "c = torch.matmul(a,b)"
   ]
  },
  {
   "cell_type": "code",
   "execution_count": 9,
   "id": "786d7892",
   "metadata": {},
   "outputs": [],
   "source": [
    "a_cuda = a.to(device='cuda')\n",
    "b_cuda = b.to(device='cuda')"
   ]
  },
  {
   "cell_type": "code",
   "execution_count": 10,
   "id": "0e5affe8",
   "metadata": {},
   "outputs": [
    {
     "data": {
      "text/plain": [
       "(device(type='cuda', index=0), device(type='cuda', index=0))"
      ]
     },
     "execution_count": 10,
     "metadata": {},
     "output_type": "execute_result"
    }
   ],
   "source": [
    "a_cuda.device, b_cuda.device"
   ]
  },
  {
   "cell_type": "code",
   "execution_count": 11,
   "id": "f4e5673c",
   "metadata": {},
   "outputs": [
    {
     "name": "stdout",
     "output_type": "stream",
     "text": [
      "Wall time: 602 ms\n"
     ]
    }
   ],
   "source": [
    "%%time\n",
    "c_cuda = torch.matmul(a_cuda, b_cuda)"
   ]
  },
  {
   "cell_type": "code",
   "execution_count": 12,
   "id": "b5d0ba5b",
   "metadata": {},
   "outputs": [
    {
     "data": {
      "text/plain": [
       "(torch.Size([6400, 6400]), torch.float32, device(type='cuda', index=0))"
      ]
     },
     "execution_count": 12,
     "metadata": {},
     "output_type": "execute_result"
    }
   ],
   "source": [
    "c_cuda.shape, c_cuda.dtype, c_cuda.device"
   ]
  },
  {
   "cell_type": "code",
   "execution_count": 14,
   "id": "9fd94b03",
   "metadata": {},
   "outputs": [
    {
     "data": {
      "text/plain": [
       "6400.0"
      ]
     },
     "execution_count": 14,
     "metadata": {},
     "output_type": "execute_result"
    }
   ],
   "source": [
    "c_cuda[0,0].item()"
   ]
  },
  {
   "cell_type": "code",
   "execution_count": null,
   "id": "4912c5cc",
   "metadata": {},
   "outputs": [],
   "source": []
  }
 ],
 "metadata": {
  "kernelspec": {
   "display_name": "Python 3",
   "language": "python",
   "name": "python3"
  },
  "language_info": {
   "codemirror_mode": {
    "name": "ipython",
    "version": 3
   },
   "file_extension": ".py",
   "mimetype": "text/x-python",
   "name": "python",
   "nbconvert_exporter": "python",
   "pygments_lexer": "ipython3",
   "version": "3.8.11"
  }
 },
 "nbformat": 4,
 "nbformat_minor": 5
}
