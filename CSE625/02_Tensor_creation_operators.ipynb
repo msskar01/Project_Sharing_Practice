{
 "cells": [
  {
   "cell_type": "code",
   "execution_count": null,
   "metadata": {},
   "outputs": [],
   "source": [
    "# Need to import matlibplot and call pl.imshow before importing torch\n",
    "# (otherwise OpenMP kernel error?)\n",
    "%matplotlib inline\n",
    "import matplotlib.pyplot as plt\n",
    "import numpy as np\n",
    "x = np.zeros(28*28)\n",
    "x = x.reshape(28,28)\n",
    "plt.imshow(x)"
   ]
  },
  {
   "cell_type": "markdown",
   "metadata": {},
   "source": [
    "## Tensor creation\n",
    "- A tensor can be created using one of the following methods<br>\n",
    "    - Creation with known data like <code>torch.ones<code/> and <code>torch.tensor<code/> <br>  \n",
    "    - Random generators<br>\n",
    "    - Conversion between tensor and numpy array<br>\n",
    "    - Read from external files<br>\n",
    "    - etc."
   ]
  },
  {
   "cell_type": "code",
   "execution_count": null,
   "metadata": {},
   "outputs": [],
   "source": [
    "import torch"
   ]
  },
  {
   "cell_type": "code",
   "execution_count": null,
   "metadata": {},
   "outputs": [],
   "source": [
    "a = torch.zeros(10)\n",
    "a.dtype, a"
   ]
  },
  {
   "cell_type": "code",
   "execution_count": null,
   "metadata": {},
   "outputs": [],
   "source": [
    "b = torch.ones(3,5)\n",
    "b.dtype, b"
   ]
  },
  {
   "cell_type": "code",
   "execution_count": null,
   "metadata": {},
   "outputs": [],
   "source": [
    "c = torch.linspace(0, 5, 8) # 8 equal-spaced vector from 0 to 5\n",
    "c.dtype, c"
   ]
  },
  {
   "cell_type": "code",
   "execution_count": null,
   "metadata": {},
   "outputs": [],
   "source": [
    "d = torch.arange(1,10) # notice: torch.range is deprecated\n",
    "d.dtype, d"
   ]
  },
  {
   "cell_type": "code",
   "execution_count": null,
   "metadata": {},
   "outputs": [],
   "source": [
    "d = torch.eye(3) # create 3x3 identity matrix\n",
    "d.dtype, d"
   ]
  },
  {
   "cell_type": "code",
   "execution_count": null,
   "metadata": {},
   "outputs": [],
   "source": [
    "# Create tensor from list\n",
    "d = torch.tensor([[1,2,3], [4,5, 6]])\n",
    "d.dtype, d"
   ]
  },
  {
   "cell_type": "code",
   "execution_count": null,
   "metadata": {},
   "outputs": [],
   "source": [
    "d = torch.tensor([[1,2,3], [4,5, 6]], dtype = torch.float)\n",
    "d.dtype, d"
   ]
  },
  {
   "cell_type": "code",
   "execution_count": null,
   "metadata": {},
   "outputs": [],
   "source": [
    "# Create tensor from normal distribution\n",
    "d1 = torch.normal(0, 1, size=(3,5)) # same as torch.randn(3,5)\n",
    "d2 = torch.normal(0, 6, size=(3,5))\n",
    "d1.mean(), d1.std(), d2.mean(), d2.std()"
   ]
  },
  {
   "cell_type": "markdown",
   "metadata": {},
   "source": [
    "## Conversion between tensor and numpy array\n",
    "- <code>x_torch.numpy()</code>\n",
    "- <code>torch.from_numpy(x_numpy)</code>"
   ]
  },
  {
   "cell_type": "code",
   "execution_count": null,
   "metadata": {},
   "outputs": [],
   "source": [
    "# From tensor to numpy\n",
    "x = torch.rand(3,5)\n",
    "y = x.numpy()\n",
    "x.dtype, x, y.dtype, y"
   ]
  },
  {
   "cell_type": "code",
   "execution_count": null,
   "metadata": {},
   "outputs": [],
   "source": [
    "# From numpy to tensor\n",
    "y = np.random.normal(0, 1, size=(3,5))\n",
    "x = torch.from_numpy(y)\n",
    "x.dtype, x, y.dtype, y"
   ]
  },
  {
   "cell_type": "code",
   "execution_count": null,
   "metadata": {},
   "outputs": [],
   "source": [
    "# Convert x float64 tensor to float32 tensor\n",
    "x = x.to(torch.float32)\n",
    "x.dtype, x"
   ]
  },
  {
   "cell_type": "code",
   "execution_count": null,
   "metadata": {},
   "outputs": [],
   "source": [
    "# Create tensor from uniform distribution between 0 and 1\n",
    "d = torch.rand(3, 5)\n",
    "d"
   ]
  },
  {
   "cell_type": "markdown",
   "metadata": {},
   "source": [
    "## Read a binary data file to a tensor\n",
    "- Since there is no torch function to read binary data file, we use numpy to read binary dada file to a numpy array and convert it to a tensor.\n",
    "- numpy binary data file read and write:<br>\n",
    "  - <code>fromfile()</code>\n",
    "  - <code>tofile()</code>\n",
    "- [Example:] Read ./data/X2.bin (70000x28x28 floats)"
   ]
  },
  {
   "cell_type": "code",
   "execution_count": null,
   "metadata": {},
   "outputs": [],
   "source": [
    "# Read X2.bin to a numpy array\n",
    "X2_numpy = np.fromfile('./data/X2.bin', dtype=np.float32)\n",
    "X2_torch = torch.from_numpy(X2_numpy)\n",
    "X2_torch.shape, X2_torch.dtype"
   ]
  },
  {
   "cell_type": "code",
   "execution_count": null,
   "metadata": {},
   "outputs": [],
   "source": [
    "# Reshape X2_torch\n",
    "X2 = X2_torch.reshape(70000,28,28)\n",
    "X2.shape"
   ]
  },
  {
   "cell_type": "code",
   "execution_count": null,
   "metadata": {},
   "outputs": [],
   "source": [
    "plt.imshow(X2[0], cmap = 'gray')"
   ]
  },
  {
   "cell_type": "code",
   "execution_count": null,
   "metadata": {},
   "outputs": [],
   "source": [
    "# Save X2 in pt file format\n",
    "torch.save (X2, './data/X2.pt')"
   ]
  },
  {
   "cell_type": "code",
   "execution_count": null,
   "metadata": {},
   "outputs": [],
   "source": [
    "# Verify the saved tesnor\n",
    "X2_read = torch.load('./data/X2.pt')\n",
    "X2_read.shape, X2_read.dtype"
   ]
  },
  {
   "cell_type": "code",
   "execution_count": null,
   "metadata": {},
   "outputs": [],
   "source": [
    "X2 == X2_read"
   ]
  },
  {
   "cell_type": "code",
   "execution_count": null,
   "metadata": {},
   "outputs": [],
   "source": [
    "diff = (X2.reshape(70000*28*28)-X2_read.reshape(70000*28*28)).abs()\n",
    "diff.sum().item() # note: diff.sum() is a 0 dimensional tensor"
   ]
  },
  {
   "cell_type": "code",
   "execution_count": null,
   "metadata": {},
   "outputs": [],
   "source": [
    "# assigment \n",
    "a = torch.ones(5)\n",
    "b = a  # both share the same storage\n",
    "b.storage()[0] = 10\n",
    "a.storage(), b.storage()"
   ]
  },
  {
   "cell_type": "code",
   "execution_count": null,
   "metadata": {},
   "outputs": [],
   "source": [
    "# clone assigment\n",
    "a = torch.ones(5)\n",
    "b = a.clone()\n",
    "b.storage()[0] = 10\n",
    "b.storage(), a.storage()"
   ]
  },
  {
   "cell_type": "code",
   "execution_count": null,
   "metadata": {},
   "outputs": [],
   "source": []
  }
 ],
 "metadata": {
  "kernelspec": {
   "display_name": "Python 3",
   "language": "python",
   "name": "python3"
  },
  "language_info": {
   "codemirror_mode": {
    "name": "ipython",
    "version": 3
   },
   "file_extension": ".py",
   "mimetype": "text/x-python",
   "name": "python",
   "nbconvert_exporter": "python",
   "pygments_lexer": "ipython3",
   "version": "3.8.11"
  }
 },
 "nbformat": 4,
 "nbformat_minor": 4
}
