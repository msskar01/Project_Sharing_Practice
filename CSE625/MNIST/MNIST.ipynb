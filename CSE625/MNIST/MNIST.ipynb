{
 "cells": [
  {
   "cell_type": "code",
   "execution_count": 1,
   "metadata": {},
   "outputs": [],
   "source": [
    "%matplotlib inline\n",
    "import numpy as np\n",
    "import random\n",
    "import matplotlib.pyplot as plt"
   ]
  },
  {
   "cell_type": "code",
   "execution_count": 2,
   "metadata": {},
   "outputs": [],
   "source": [
    "# Read digit images: 65,000X28x28 grey images (binary data)\n",
    "digits = np.fromfile('X.bin', dtype=np.single)\n",
    "\n",
    "# Read digit image labels: 65,000X10 (one-hot vector)\n",
    "labels = np.fromfile('Y.bin', dtype=np.single)"
   ]
  },
  {
   "cell_type": "code",
   "execution_count": 3,
   "metadata": {},
   "outputs": [
    {
     "data": {
      "text/plain": [
       "((50960000,), (650000,))"
      ]
     },
     "execution_count": 3,
     "metadata": {},
     "output_type": "execute_result"
    }
   ],
   "source": [
    "digits.shape, labels.shape"
   ]
  },
  {
   "cell_type": "code",
   "execution_count": 4,
   "metadata": {},
   "outputs": [],
   "source": [
    "digits = digits.reshape (65000, 28, 28)\n",
    "labels = labels.reshape (65000, 10)"
   ]
  },
  {
   "cell_type": "code",
   "execution_count": 5,
   "metadata": {},
   "outputs": [
    {
     "data": {
      "text/plain": [
       "<matplotlib.image.AxesImage at 0x16a1999c880>"
      ]
     },
     "execution_count": 5,
     "metadata": {},
     "output_type": "execute_result"
    },
    {
     "data": {
      "image/png": "[encoded data removed]",
      "text/plain": [
       "<Figure size 432x288 with 1 Axes>"
      ]
     },
     "metadata": {
      "needs_background": "light"
     },
     "output_type": "display_data"
    }
   ],
   "source": [
    "plt.imshow(digits[0])"
   ]
  },
  {
   "cell_type": "code",
   "execution_count": 6,
   "metadata": {},
   "outputs": [],
   "source": [
    "# function to convert one-hot vector to (unint8) digit; assuming is 10-element vectors \n",
    "def oneHotVector_2_digit(v):\n",
    "    index = 0\n",
    "    max = v[0]\n",
    "    for i in range(1, 10):\n",
    "        if v[i] > max:\n",
    "            max = v[i]\n",
    "            index = i\n",
    "    return index"
   ]
  },
  {
   "cell_type": "code",
   "execution_count": 7,
   "metadata": {},
   "outputs": [
    {
     "data": {
      "text/plain": [
       "(8, 7)"
      ]
     },
     "execution_count": 7,
     "metadata": {},
     "output_type": "execute_result"
    }
   ],
   "source": [
    "# test the function, oneHotVector_2_digit\n",
    "x = np.zeros(10)\n",
    "x[8] = 1\n",
    "oneHotVector_2_digit(x), oneHotVector_2_digit(labels[0,])"
   ]
  },
  {
   "cell_type": "code",
   "execution_count": 8,
   "metadata": {},
   "outputs": [],
   "source": [
    "# Convert (one-hot-vector) labels to unsiged_8\n",
    "digLabel = np.zeros (65000, dtype = np.uint8)\n",
    "for i in range(labels.shape[0]):\n",
    "    digLabel[i] = oneHotVector_2_digit(labels[i,])"
   ]
  },
  {
   "cell_type": "code",
   "execution_count": 9,
   "metadata": {},
   "outputs": [
    {
     "data": {
      "text/plain": [
       "(7, 7)"
      ]
     },
     "execution_count": 9,
     "metadata": {},
     "output_type": "execute_result"
    }
   ],
   "source": [
    "digLabel[0], digLabel[100]"
   ]
  },
  {
   "cell_type": "code",
   "execution_count": 10,
   "metadata": {},
   "outputs": [],
   "source": [
    "# save digLabel to a file of .npy narray format\n",
    "np.save (\"digit_image_labels\", digLabel) # saved to .npy format"
   ]
  },
  {
   "cell_type": "code",
   "execution_count": 11,
   "metadata": {},
   "outputs": [
    {
     "data": {
      "text/plain": [
       "((65000,), numpy.ndarray)"
      ]
     },
     "execution_count": 11,
     "metadata": {},
     "output_type": "execute_result"
    }
   ],
   "source": [
    "# test the saved .npy file\n",
    "digit_label = np.load(\"digit_image_labels.npy\") \n",
    "digit_label.shape, type(digit_label)"
   ]
  },
  {
   "cell_type": "code",
   "execution_count": 12,
   "metadata": {},
   "outputs": [],
   "source": [
    "# save digLabel to a binary file\n",
    "digLabel.tofile (\"digit_image_labels.bin\") # default to binary"
   ]
  },
  {
   "cell_type": "code",
   "execution_count": 13,
   "metadata": {},
   "outputs": [
    {
     "data": {
      "text/plain": [
       "((65000,), numpy.ndarray)"
      ]
     },
     "execution_count": 13,
     "metadata": {},
     "output_type": "execute_result"
    }
   ],
   "source": [
    "# test the saved .bin file\n",
    "digit_label = np.fromfile(\"digit_image_labels.bin\", dtype = np.uint8) \n",
    "digit_label.shape, type(digit_label)"
   ]
  },
  {
   "cell_type": "code",
   "execution_count": 14,
   "metadata": {},
   "outputs": [],
   "source": [
    "def show(image, title, row):\n",
    "    index = 1 \n",
    "    plt.figure(figsize=(10,10)) # width, heght in inch\n",
    "\n",
    "    for x in zip(image, title):        \n",
    "        plt.subplot(row, 5, index) # this subplot is up to row x 5       \n",
    "        plt.imshow(x[0], cmap=plt.cm.gray)  \n",
    "        plt.title(x[1], fontsize = 9)\n",
    "        index += 1"
   ]
  },
  {
   "cell_type": "code",
   "execution_count": 15,
   "metadata": {},
   "outputs": [
    {
     "data": {
      "image/png": "[encoded data removed]",
      "text/plain": [
       "<Figure size 720x720 with 19 Axes>"
      ]
     },
     "metadata": {
      "needs_background": "light"
     },
     "output_type": "display_data"
    }
   ],
   "source": [
    "n_image = 19   # number of digit images to plot\n",
    "image = []\n",
    "title = []\n",
    "for i in range(0, n_image):\n",
    "    r = random.randint(1, digits.shape[0])\n",
    "    image.append(digits[r])\n",
    "    title.append('Digit Image: ' + str(r) + \" \" + str(digLabel[r]))       \n",
    "    \n",
    "show(image, title, (n_image + 5 -1) // 5)"
   ]
  },
  {
   "cell_type": "code",
   "execution_count": 22,
   "metadata": {},
   "outputs": [],
   "source": [
    "digits = np.fromfile('X.bin', dtype=np.single)\n",
    "digits = digits.reshape(65000, 784)"
   ]
  },
  {
   "cell_type": "code",
   "execution_count": 23,
   "metadata": {},
   "outputs": [
    {
     "data": {
      "text/plain": [
       "(65000, 784)"
      ]
     },
     "execution_count": 23,
     "metadata": {},
     "output_type": "execute_result"
    }
   ],
   "source": [
    "digits.shape"
   ]
  },
  {
   "cell_type": "code",
   "execution_count": 28,
   "metadata": {},
   "outputs": [
    {
     "data": {
      "text/plain": [
       "numpy.float32"
      ]
     },
     "execution_count": 28,
     "metadata": {},
     "output_type": "execute_result"
    }
   ],
   "source": [
    "type(digits[0][0])"
   ]
  },
  {
   "cell_type": "code",
   "execution_count": 26,
   "metadata": {},
   "outputs": [],
   "source": [
    "np.save (\"out\", digits)"
   ]
  },
  {
   "cell_type": "code",
   "execution_count": null,
   "metadata": {},
   "outputs": [],
   "source": []
  }
 ],
 "metadata": {
  "kernelspec": {
   "display_name": "Python 3",
   "language": "python",
   "name": "python3"
  },
  "language_info": {
   "codemirror_mode": {
    "name": "ipython",
    "version": 3
   },
   "file_extension": ".py",
   "mimetype": "text/x-python",
   "name": "python",
   "nbconvert_exporter": "python",
   "pygments_lexer": "ipython3",
   "version": "3.8.11"
  }
 },
 "nbformat": 4,
 "nbformat_minor": 2
}
