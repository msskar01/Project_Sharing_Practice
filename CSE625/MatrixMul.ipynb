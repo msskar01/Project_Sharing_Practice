{
 "cells": [
  {
   "cell_type": "markdown",
   "metadata": {},
   "source": [
    "**Example: Multiplication of two matrices by each other of size 3×3.**\n",
    "\n",
    "\n",
    "    matrix1 = [[12, 7, 3],\n",
    "               [4,  5, 6],\n",
    "               [7,  8, 9]]\n",
    "                 \n",
    "    matrix2 = [[5, 8, 1],\n",
    "               [6, 7, 3],\n",
    "               [4, 5, 9]]\n",
    "\n",
    "    matrix1 @ matrix2 =[[114, 160, 60]\n",
    "                        [74,   97, 73]\n",
    "                        [119, 157, 112]]\n",
    "\n",
    "Methods to multiply two matrices in python\n",
    "1. Using explicit for loops: This is a simple technique to multiply matrices but one of the expensive method for larger input data set. In this, we use nested for loops to iterate each row and each column.\n",
    "If matrix1 is a n x k matrix and matrix2 is a k x m matrix, the result is an n x m matrix.\n",
    "2. Using Numpy : Multiplication using Numpy also know as vectorization which main aim to reduce or remove the explicit use of for loops in the program by which computation becomes faster.\n",
    "Numpy is a build in a package in python for array-processing and manipulation.For larger matrix operations we use numpy python package which is 1000 times faster than iterative one method.\n"
   ]
  },
  {
   "cell_type": "code",
   "execution_count": 6,
   "metadata": {},
   "outputs": [
    {
     "name": "stdout",
     "output_type": "stream",
     "text": [
      "[[114, 160, 60], [74, 97, 73], [119, 157, 112]]\n"
     ]
    }
   ],
   "source": [
    "# input two matrices of size n x m\n",
    "matrix1 = [[12,7,3],\n",
    "        [4 ,5,6],\n",
    "        [7 ,8,9]]\n",
    "matrix2 = [[5,8,1],\n",
    "        [6,7,3],\n",
    "        [4,5,9]]\n",
    "res = [[0 for x in range(3)] for y in range(3)] \n",
    "\n",
    "# explicit for loops\n",
    "for i in range(len(matrix1)):\n",
    "    for j in range(len(matrix2[0])):\n",
    "        for k in range(len(matrix2)):\n",
    "            # resulted matrix\n",
    "            res[i][j] += matrix1[i][k] * matrix2[k][j]\n",
    "  \n",
    "print (res)"
   ]
  },
  {
   "cell_type": "markdown",
   "metadata": {},
   "source": [
    "In the following example we will use dot product and in mathematics the dot product is an algebraic operation that takes two vectors of equal size and returns a single number. The result is calculated by multiplying corresponding entries and adding up those products."
   ]
  },
  {
   "cell_type": "code",
   "execution_count": 1,
   "metadata": {},
   "outputs": [
    {
     "name": "stdout",
     "output_type": "stream",
     "text": [
      "[[114 160  60]\n",
      " [ 74  97  73]\n",
      " [119 157 112]]\n"
     ]
    },
    {
     "data": {
      "text/plain": [
       "numpy.ndarray"
      ]
     },
     "execution_count": 1,
     "metadata": {},
     "output_type": "execute_result"
    }
   ],
   "source": [
    "import numpy as np\n",
    "  \n",
    "# input two matrices\n",
    "mat1 = [[12, 7, 3],[4 ,5, 6],[7, 8, 9]] # List,  not np.ndarray\n",
    "mat2 = ([5, 8, 1],[6, 7, 3],[4, 5, 9])  # Tuple, not np.ndarray\n",
    "  \n",
    "# This will return dot product of two matrices\n",
    "res = np.dot(mat1, mat2) # by doing (row-vector) dot (column-vector); \n",
    "                         # works on array-like data structures\n",
    "  \n",
    "# print resulted matrix\n",
    "print(res)\n",
    "type(res)"
   ]
  },
  {
   "cell_type": "code",
   "execution_count": 2,
   "metadata": {},
   "outputs": [
    {
     "name": "stdout",
     "output_type": "stream",
     "text": [
      "[[114 160  60]\n",
      " [ 74  97  73]\n",
      " [119 157 112]]\n"
     ]
    }
   ],
   "source": [
    "# same result will be obtained when we use @ operator \n",
    "# as shown below(only in python >3.5)\n",
    "import numpy as np\n",
    "  \n",
    "# Convert list and Tuple to two np.ndarrays\n",
    "mat1 = np.asarray([[12, 7, 3],[4 ,5, 6],[7, 8, 9]])\n",
    "mat2 = np.asarray(([5, 8, 1],[6, 7, 3],[4, 5, 9]))\n",
    "\n",
    "# This will return matrix product of two array\n",
    "res = mat1 @ mat2\n",
    "  \n",
    "# print resulted matrix\n",
    "print(res)"
   ]
  },
  {
   "cell_type": "code",
   "execution_count": 3,
   "metadata": {},
   "outputs": [
    {
     "name": "stdout",
     "output_type": "stream",
     "text": [
      "[[114 160  60]\n",
      " [ 74  97  73]\n",
      " [119 157 112]]\n"
     ]
    }
   ],
   "source": [
    "# Same as res = mat1 @ mat2\n",
    "res = mat1.dot(mat2)\n",
    "  \n",
    "# print resulted matrix\n",
    "print(res)"
   ]
  },
  {
   "cell_type": "code",
   "execution_count": 16,
   "metadata": {},
   "outputs": [],
   "source": [
    "row, k, col = 3200, 3200, 3200\n",
    "\n",
    "# Create a list containing row lists, each of k items, all set to 1.0\n",
    "matrix1 = [[1.0 for x in range(k)] for y in range(row)]\n",
    "# Create a list containing k lists, each of col items, all set to 1.0\n",
    "matrix2 = [[1.0 for x in range(col)] for y in range(k)]\n",
    "\n",
    "res = [[0 for x in range(col)] for y in range(row)] "
   ]
  },
  {
   "cell_type": "code",
   "execution_count": 17,
   "metadata": {},
   "outputs": [
    {
     "name": "stdout",
     "output_type": "stream",
     "text": [
      "number of rows = 3200\n",
      "number of cols = 3200\n",
      "res[0][0] = 3200.0\n",
      "Wall time: 1h 59min 46s\n"
     ]
    }
   ],
   "source": [
    "# Timing of multiplication of two matrices of size row x k and k x col\n",
    "# Be warned; this may take about 2 hours to complete for 3200x3200 matrices.\n",
    "%%time\n",
    "# explicit for loops\n",
    "for i in range(len(matrix1)):\n",
    "    for j in range(len(matrix2[0])):\n",
    "        for k in range(len(matrix2)):\n",
    "            # resulted matrix\n",
    "            res[i][j] += matrix1[i][k] * matrix2[k][j]\n",
    "print(f\"number of rows = {len(res)}\"), print(f\"number of cols = {len(res[0])}\")\n",
    "print(f\"res[0][0] = {res[0][0]}\")"
   ]
  },
  {
   "cell_type": "code",
   "execution_count": 4,
   "metadata": {
    "scrolled": true
   },
   "outputs": [
    {
     "name": "stdout",
     "output_type": "stream",
     "text": [
      "3200\n",
      "3200\n",
      "(3200, 3200)\n"
     ]
    }
   ],
   "source": [
    "# same result will be obtained when we use @ operator \n",
    "# as shown below(only in python >3.5)\n",
    "import numpy as np\n",
    "\n",
    "s = 3200\n",
    "# input two matrices\n",
    "#mat1 = np.ones((s,s), dtype=\"float32\")\n",
    "#mat2 = np.ones((s,s), dtype=\"float32\")\n",
    "\n",
    "mat1 = np.random.random((s, s))\n",
    "mat2 = np.random.random((s, s))\n",
    "\n",
    "print(len(mat1))\n",
    "print(len(mat2))\n",
    "print(mat1.shape)"
   ]
  },
  {
   "cell_type": "code",
   "execution_count": 5,
   "metadata": {},
   "outputs": [
    {
     "name": "stdout",
     "output_type": "stream",
     "text": [
      "2\n",
      "(3200, 3200)\n",
      "808.2164223308997\n",
      "Wall time: 239 ms\n"
     ]
    }
   ],
   "source": [
    "%%time \n",
    "res = np.matmul(mat1,mat2) # mat1 @ mat2\n",
    "print(res.ndim), print(res.shape)\n",
    "print(res[0,0])"
   ]
  },
  {
   "cell_type": "code",
   "execution_count": null,
   "metadata": {},
   "outputs": [],
   "source": []
  }
 ],
 "metadata": {
  "kernelspec": {
   "display_name": "Python 3",
   "language": "python",
   "name": "python3"
  },
  "language_info": {
   "codemirror_mode": {
    "name": "ipython",
    "version": 3
   },
   "file_extension": ".py",
   "mimetype": "text/x-python",
   "name": "python",
   "nbconvert_exporter": "python",
   "pygments_lexer": "ipython3",
   "version": "3.7.3"
  }
 },
 "nbformat": 4,
 "nbformat_minor": 4
}
