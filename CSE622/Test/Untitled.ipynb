{
 "cells": [
  {
   "cell_type": "code",
   "execution_count": 23,
   "id": "ebe85148",
   "metadata": {},
   "outputs": [],
   "source": [
    "import numpy as np\n",
    "import random"
   ]
  },
  {
   "cell_type": "code",
   "execution_count": 18,
   "id": "85bf192d",
   "metadata": {},
   "outputs": [],
   "source": [
    "class Elevator:\n",
    "    def __init__(self, capacity, floors, current_floor, time, is_moving):\n",
    "        self.capacity = capacity\n",
    "        self.floors = floors\n",
    "        self.current_floor = current_floor\n",
    "        self.time = time\n",
    "        self.is_moving = is_moving\n",
    "        \n",
    "class Person:\n",
    "    def __init__(self, going_floor, show_up, leave):\n",
    "        self.going_floor = going_floor\n",
    "        self.show_up = show_up\n",
    "        self.leave = leave"
   ]
  },
  {
   "cell_type": "code",
   "execution_count": 19,
   "id": "e764a917",
   "metadata": {},
   "outputs": [],
   "source": [
    "elevator = Elevator(12, ['G', 2, 3, 4], 'G', 800, False)"
   ]
  },
  {
   "cell_type": "code",
   "execution_count": 31,
   "id": "bd2dd748",
   "metadata": {},
   "outputs": [
    {
     "data": {
      "text/plain": [
       "3"
      ]
     },
     "execution_count": 31,
     "metadata": {},
     "output_type": "execute_result"
    }
   ],
   "source": [
    "people = []\n",
    "for time in np.arange(800, 860, 0.5):\n",
    "    people.append(Person(random.randrange(2, 5), time, 0))\n",
    "    elevator.time = time\n",
    "    if elevator.current_floor ==\n",
    "people[0].going_floor"
   ]
  },
  {
   "cell_type": "code",
   "execution_count": 40,
   "id": "d32d64d5",
   "metadata": {},
   "outputs": [
    {
     "data": {
      "text/plain": [
       "4"
      ]
     },
     "execution_count": 40,
     "metadata": {},
     "output_type": "execute_result"
    }
   ],
   "source": []
  },
  {
   "cell_type": "code",
   "execution_count": null,
   "id": "bb5af3d0",
   "metadata": {},
   "outputs": [],
   "source": []
  }
 ],
 "metadata": {
  "kernelspec": {
   "display_name": "Python 3 (ipykernel)",
   "language": "python",
   "name": "python3"
  },
  "language_info": {
   "codemirror_mode": {
    "name": "ipython",
    "version": 3
   },
   "file_extension": ".py",
   "mimetype": "text/x-python",
   "name": "python",
   "nbconvert_exporter": "python",
   "pygments_lexer": "ipython3",
   "version": "3.9.7"
  }
 },
 "nbformat": 4,
 "nbformat_minor": 5
}
