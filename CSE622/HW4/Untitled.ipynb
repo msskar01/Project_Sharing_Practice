{
 "cells": [
  {
   "cell_type": "code",
   "execution_count": 23,
   "id": "ae5cdac4",
   "metadata": {},
   "outputs": [],
   "source": [
    "class Node:\n",
    "    def __init__(self, name, child = [], parent = []):\n",
    "        self.Name = name\n",
    "        self.Child = child\n",
    "        self.Parent = parent"
   ]
  },
  {
   "cell_type": "code",
   "execution_count": 7,
   "id": "ef4cdbd3",
   "metadata": {},
   "outputs": [],
   "source": [
    "P1 = Node(1, [2, 5])\n",
    "P2 = Node(2, [3, 4], [1])\n",
    "P3 = Node(3, [4], [2, 5])\n",
    "P4 = Node(4, [7], [2, 3, 5])\n",
    "P5 = Node(5, [3, 4, 6], [1])\n",
    "P6 = Node(6, [7], [5])\n",
    "P7 = Node(7, parent=[4,6])\n",
    "graph = [P1,P2,P3,P4,P5,P6,P7]"
   ]
  },
  {
   "cell_type": "code",
   "execution_count": 42,
   "id": "8412ac90",
   "metadata": {},
   "outputs": [],
   "source": [
    "import random\n",
    "\n",
    "sub_paths = [[1, 2, random.choice([3, 5])],\n",
    " [2, 3, 6],\n",
    " [2, 4, random.choice([7, 9])],\n",
    " [3, 4, random.choice([5, 8])],\n",
    " [1, 5, 6],\n",
    " [5, 4, 9],\n",
    " [5, 3, 7],\n",
    " [5, 6, random.choice([7, 10])],\n",
    " [4, 7, 4],\n",
    " [6, 7, random.choice([8, 12])]]"
   ]
  },
  {
   "cell_type": "code",
   "execution_count": 43,
   "id": "0d9532ef",
   "metadata": {},
   "outputs": [
    {
     "data": {
      "text/plain": [
       "[[1, 2, 3],\n",
       " [2, 3, 6],\n",
       " [2, 4, 9],\n",
       " [3, 4, 8],\n",
       " [1, 5, 6],\n",
       " [5, 4, 9],\n",
       " [5, 3, 7],\n",
       " [5, 6, 7],\n",
       " [4, 7, 4],\n",
       " [6, 7, 8]]"
      ]
     },
     "execution_count": 43,
     "metadata": {},
     "output_type": "execute_result"
    }
   ],
   "source": [
    "sub_paths"
   ]
  },
  {
   "cell_type": "code",
   "execution_count": 34,
   "id": "4e9540da",
   "metadata": {},
   "outputs": [],
   "source": [
    "graph = {1: [2, 5],\n",
    "         2: [3, 4],\n",
    "         3: [4],\n",
    "         4: [7],\n",
    "         5: [3, 4, 6],\n",
    "         6: [7],\n",
    "         7: []}"
   ]
  },
  {
   "cell_type": "code",
   "execution_count": 22,
   "id": "4527e530",
   "metadata": {},
   "outputs": [
    {
     "data": {
      "text/plain": [
       "{1: [2, 5], 2: [3, 4], 3: [4], 4: [7], 5: [3, 4, 6], 6: [7], 7: []}"
      ]
     },
     "execution_count": 22,
     "metadata": {},
     "output_type": "execute_result"
    }
   ],
   "source": [
    "graph"
   ]
  },
  {
   "cell_type": "code",
   "execution_count": 40,
   "id": "c301c49e",
   "metadata": {},
   "outputs": [],
   "source": [
    "def find_path(graph, start, end, path=[]):\n",
    "    path = path + [start]\n",
    "    if start == end:\n",
    "        return path\n",
    "    if start not in graph:\n",
    "        return None\n",
    "    for node in graph[start]:\n",
    "        if node not in path:\n",
    "            newpath = find_path(graph, node, end, path)\n",
    "            if newpath: return newpath\n",
    "    return None\n",
    "    \n",
    "def find_all_paths(graph, start, end, path=[]):\n",
    "    path = path + [start]\n",
    "    if start == end:\n",
    "        return [path]\n",
    "    if start not in graph:\n",
    "        return []\n",
    "    paths = []\n",
    "    for node in graph[start]:\n",
    "        if node not in path:\n",
    "            newpaths = find_all_paths(graph, node, end, path)\n",
    "            for newpath in newpaths:\n",
    "                paths.append(newpath)\n",
    "    return paths    \n",
    "\n",
    "def find_all_sub_paths(graph):\n",
    "    sub_paths = []\n",
    "    for node in graph:\n",
    "        for sp in graph[node]:\n",
    "            sub_paths.append([node, sp])\n",
    "    return sub_paths\n",
    "    \n",
    "find_path(graph, 1, 7)\n",
    "all_paths = find_all_paths(graph, 1, 7)"
   ]
  },
  {
   "cell_type": "code",
   "execution_count": 88,
   "id": "ac2de082",
   "metadata": {
    "scrolled": true
   },
   "outputs": [],
   "source": [
    "import random\n",
    "\n",
    "sub_paths = [[1, 2, random.choice([3, 5])],\n",
    " [2, 3, 6],\n",
    " [2, 4, random.choice([7, 9])],\n",
    " [3, 4, random.choice([5, 8])],\n",
    " [1, 5, 6],\n",
    " [5, 4, 9],\n",
    " [5, 3, 7],\n",
    " [5, 6, random.choice([7, 10])],\n",
    " [4, 7, 4],\n",
    " [6, 7, random.choice([8, 12])]]"
   ]
  },
  {
   "cell_type": "code",
   "execution_count": 89,
   "id": "1851416b",
   "metadata": {},
   "outputs": [],
   "source": [
    "weights = {\"Paths\":[], \"Weights\":[]}\n",
    "for path in all_paths:\n",
    "    weight = 0\n",
    "    weights[\"Paths\"].append(path)\n",
    "    for sub_path in sub_paths:\n",
    "        for i in range(len(path) - 1):\n",
    "            if path[i] == sub_path[0] and path[i+1] == sub_path[1]:\n",
    "                weight += sub_path[2]\n",
    "    weights[\"Weights\"].append(weight)"
   ]
  },
  {
   "cell_type": "code",
   "execution_count": 90,
   "id": "a71e95dd",
   "metadata": {},
   "outputs": [
    {
     "data": {
      "text/plain": [
       "{'Paths': [[1, 2, 3, 4, 7],\n",
       "  [1, 2, 4, 7],\n",
       "  [1, 5, 3, 4, 7],\n",
       "  [1, 5, 4, 7],\n",
       "  [1, 5, 6, 7]],\n",
       " 'Weights': [20, 16, 22, 19, 21]}"
      ]
     },
     "execution_count": 90,
     "metadata": {},
     "output_type": "execute_result"
    }
   ],
   "source": [
    "weights"
   ]
  },
  {
   "cell_type": "code",
   "execution_count": null,
   "id": "41c1fe46",
   "metadata": {},
   "outputs": [],
   "source": []
  }
 ],
 "metadata": {
  "kernelspec": {
   "display_name": "Python 3 (ipykernel)",
   "language": "python",
   "name": "python3"
  },
  "language_info": {
   "codemirror_mode": {
    "name": "ipython",
    "version": 3
   },
   "file_extension": ".py",
   "mimetype": "text/x-python",
   "name": "python",
   "nbconvert_exporter": "python",
   "pygments_lexer": "ipython3",
   "version": "3.9.7"
  }
 },
 "nbformat": 4,
 "nbformat_minor": 5
}
