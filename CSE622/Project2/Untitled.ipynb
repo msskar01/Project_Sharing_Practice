{
 "cells": [
  {
   "cell_type": "code",
   "execution_count": 146,
   "id": "9c63ee73",
   "metadata": {},
   "outputs": [],
   "source": [
    "import random\n",
    "import matplotlib.pyplot as plt\n",
    "employees = []"
   ]
  },
  {
   "cell_type": "code",
   "execution_count": 7,
   "id": "40560341",
   "metadata": {},
   "outputs": [],
   "source": [
    "class Employee:\n",
    "    def __init__(self, id, infected, immune):\n",
    "        self.ID = id\n",
    "        self.Infected = infected\n",
    "        self.Immune = immune"
   ]
  },
  {
   "cell_type": "code",
   "execution_count": 193,
   "id": "f541c82c",
   "metadata": {},
   "outputs": [],
   "source": [
    "def make_employees(number_of_employees = random.randrange(2, 1000000, 2)):\n",
    "    employees = []\n",
    "    for i in range(number_of_employees):\n",
    "        employees.append(Employee(i, 0, 0)) \n",
    "    return employees\n",
    "\n",
    "def infect_employee(employees):\n",
    "    target = random.randrange(0, len(employees))\n",
    "    employees[target].Infected = 1\n",
    "    return employees\n",
    "\n",
    "def send_message(employee, employees, people_affected):\n",
    "    if(employee.Infected == 1):\n",
    "        test = [j for j in employees if j!=employee]\n",
    "        targets = random.sample(test, 3)\n",
    "        for z in employees:\n",
    "            if z in targets:\n",
    "                if z.Immune == 1:\n",
    "                    continue\n",
    "                elif random.randrange(10) < 4:\n",
    "                    if z.Infected == 1:\n",
    "                        z.Immune = 1\n",
    "                        z.Infected = 0\n",
    "                    else:\n",
    "                        people_affected = people_affected + 1\n",
    "                        z.Infected = 1\n",
    "    return people_affected\n",
    "\n",
    "def send_messages(employees, days = 3):\n",
    "    people_affected = 1\n",
    "    affected = []\n",
    "    immune = []\n",
    "    infected = []\n",
    "    for day in range(days):\n",
    "        print(people_affected)\n",
    "        affected.append(people_affected)\n",
    "        Icount = 0\n",
    "        Imcount = 0\n",
    "        for employee in employees:\n",
    "            if employee.Infected == 1:\n",
    "                Icount += 1\n",
    "            if employee.Immune == 1:\n",
    "                Imcount += 1\n",
    "            people_affected = send_message(employee, employees, people_affected)\n",
    "        infected.append(Icount)\n",
    "        immune.append(Imcount)\n",
    "    print(people_affected)\n",
    "    plt.plot(affected)\n",
    "    plt.title('affected')\n",
    "    plt.xlabel('days')\n",
    "    plt.ylabel('# of people')\n",
    "    plt.show()\n",
    "    plt.plot(infected, 'r', label='infected')\n",
    "    plt.plot(immune, 'b', label='immune')\n",
    "    plt.legend(['infected', 'immune'])\n",
    "    plt.title('affected')\n",
    "    plt.xlabel('days')\n",
    "    plt.ylabel('# of people')\n",
    "    plt.show()\n",
    "            \n",
    "def send_messages_until(employees, precent = 0.1):\n",
    "    people_affected = 1\n",
    "    affected = []\n",
    "    immune = []\n",
    "    infected = []\n",
    "    days = 1\n",
    "    while((people_affected/len(employees)) < precent):\n",
    "        print(people_affected)\n",
    "        affected.append(people_affected)\n",
    "        Icount = 0\n",
    "        Imcount = 0\n",
    "        for employee in employees:\n",
    "            if employee.Infected == 1:\n",
    "                Icount += 1\n",
    "            if employee.Immune == 1:\n",
    "                Imcount += 1\n",
    "            people_affected = send_message(employee, employees, people_affected)\n",
    "        days = days + 1\n",
    "        infected.append(Icount)\n",
    "        immune.append(Imcount)\n",
    "    print(people_affected)\n",
    "    plt.plot(affected)\n",
    "    plt.title('affected')\n",
    "    plt.xlabel('days')\n",
    "    plt.ylabel('# of people')\n",
    "    plt.show()\n",
    "    plt.plot(infected, 'r', label='infected')\n",
    "    plt.plot(immune, 'b', label='immune')\n",
    "    plt.legend(['infected', 'immune'])\n",
    "    plt.title('affected')\n",
    "    plt.xlabel('days')\n",
    "    plt.ylabel('# of people')\n",
    "    plt.show()\n",
    "    return days"
   ]
  },
  {
   "cell_type": "code",
   "execution_count": 158,
   "id": "e37418d9",
   "metadata": {},
   "outputs": [],
   "source": [
    "employees = make_employees(100)\n",
    "infect_employee(employees)\n",
    "send_messages(employees)"
   ]
  },
  {
   "cell_type": "code",
   "execution_count": 159,
   "id": "10f0f3ae",
   "metadata": {},
   "outputs": [
    {
     "data": {
      "text/plain": [
       "100"
      ]
     },
     "execution_count": 159,
     "metadata": {},
     "output_type": "execute_result"
    }
   ],
   "source": [
    "employees = make_employees(100)\n",
    "len(employees)"
   ]
  },
  {
   "cell_type": "code",
   "execution_count": 196,
   "id": "b99f85b5",
   "metadata": {},
   "outputs": [
    {
     "name": "stdout",
     "output_type": "stream",
     "text": [
      "1\n",
      "1\n",
      "1\n",
      "4\n",
      "14\n",
      "47\n",
      "163\n",
      "532\n",
      "1471\n",
      "3298\n",
      "5286\n",
      "6921\n",
      "7960\n",
      "8601\n",
      "8965\n",
      "9193\n",
      "9357\n",
      "9490\n",
      "9564\n",
      "9627\n",
      "9672\n"
     ]
    },
    {
     "data": {
      "image/png": "[encoded data removed]",
      "text/plain": [
       "<Figure size 432x288 with 1 Axes>"
      ]
     },
     "metadata": {
      "needs_background": "light"
     },
     "output_type": "display_data"
    },
    {
     "data": {
      "image/png": "[encoded data removed]",
      "text/plain": [
       "<Figure size 432x288 with 1 Axes>"
      ]
     },
     "metadata": {
      "needs_background": "light"
     },
     "output_type": "display_data"
    }
   ],
   "source": [
    "employees = make_employees(10000)\n",
    "infect_employee(employees)\n",
    "send_messages(employees, 20)\n",
    "InCount = 0\n",
    "ImCount = 0\n",
    "for i in employees:\n",
    "    if i.Infected == 1:\n",
    "        InCount += 1\n",
    "    if i.Immune == 1:\n",
    "        ImCount +=1"
   ]
  },
  {
   "cell_type": "code",
   "execution_count": 162,
   "id": "cad63ce1",
   "metadata": {},
   "outputs": [
    {
     "name": "stdout",
     "output_type": "stream",
     "text": [
      "7\n",
      "92\n"
     ]
    }
   ],
   "source": [
    "print(InCount)\n",
    "print(ImCount)"
   ]
  },
  {
   "cell_type": "code",
   "execution_count": 182,
   "id": "08bdbb4a",
   "metadata": {},
   "outputs": [
    {
     "name": "stdout",
     "output_type": "stream",
     "text": [
      "1\n",
      "1\n",
      "2\n",
      "3\n",
      "9\n",
      "30\n",
      "55\n"
     ]
    },
    {
     "data": {
      "image/png": "[encoded data removed]",
      "text/plain": [
       "<Figure size 432x288 with 1 Axes>"
      ]
     },
     "metadata": {
      "needs_background": "light"
     },
     "output_type": "display_data"
    },
    {
     "data": {
      "image/png": "[encoded data removed]",
      "text/plain": [
       "<Figure size 432x288 with 1 Axes>"
      ]
     },
     "metadata": {
      "needs_background": "light"
     },
     "output_type": "display_data"
    }
   ],
   "source": [
    "employees = make_employees(100)\n",
    "infect_employee(employees)\n",
    "days = send_messages_until(employees, 0.5)\n",
    "InCount = 0\n",
    "ImCount = 0\n",
    "for i in employees:\n",
    "    if i.Infected == 1:\n",
    "        InCount += 1\n",
    "    if i.Immune == 1:\n",
    "        ImCount +=1"
   ]
  },
  {
   "cell_type": "code",
   "execution_count": 144,
   "id": "26c2159f",
   "metadata": {},
   "outputs": [
    {
     "name": "stdout",
     "output_type": "stream",
     "text": [
      "3611\n",
      "2343\n"
     ]
    }
   ],
   "source": [
    "print(InCount)\n",
    "print(ImCount)"
   ]
  },
  {
   "cell_type": "code",
   "execution_count": 145,
   "id": "e64e3c8e",
   "metadata": {},
   "outputs": [
    {
     "data": {
      "text/plain": [
       "9"
      ]
     },
     "execution_count": 145,
     "metadata": {},
     "output_type": "execute_result"
    }
   ],
   "source": [
    "days"
   ]
  },
  {
   "cell_type": "code",
   "execution_count": null,
   "id": "6e2effb8",
   "metadata": {},
   "outputs": [],
   "source": []
  }
 ],
 "metadata": {
  "kernelspec": {
   "display_name": "Python 3 (ipykernel)",
   "language": "python",
   "name": "python3"
  },
  "language_info": {
   "codemirror_mode": {
    "name": "ipython",
    "version": 3
   },
   "file_extension": ".py",
   "mimetype": "text/x-python",
   "name": "python",
   "nbconvert_exporter": "python",
   "pygments_lexer": "ipython3",
   "version": "3.9.7"
  }
 },
 "nbformat": 4,
 "nbformat_minor": 5
}
