{
  "nbformat": 4,
  "nbformat_minor": 0,
  "metadata": {
    "colab": {
      "name": "Exam_Problem2_model1.ipynb",
      "provenance": []
    },
    "kernelspec": {
      "name": "python3",
      "display_name": "Python 3"
    }
  },
  "cells": [
    {
      "cell_type": "code",
      "metadata": {
        "colab": {
          "base_uri": "https://localhost:8080/",
          "height": 36
        },
        "id": "y_ru4_1I8Djb",
        "outputId": "c881d2d7-a81d-48dc-881a-b3eeebc5fdfb"
      },
      "source": [
        "import os\r\n",
        "import zipfile\r\n",
        "import random\r\n",
        "import tensorflow as tf\r\n",
        "from tensorflow.keras.optimizers import RMSprop\r\n",
        "from tensorflow.keras.preprocessing.image import ImageDataGenerator\r\n",
        "from shutil import copyfile\r\n",
        "import tensorflow.keras as keras\r\n",
        "keras.__version__"
      ],
      "execution_count": 1,
      "outputs": [
        {
          "output_type": "execute_result",
          "data": {
            "application/vnd.google.colaboratory.intrinsic+json": {
              "type": "string"
            },
            "text/plain": [
              "'2.4.0'"
            ]
          },
          "metadata": {
            "tags": []
          },
          "execution_count": 1
        }
      ]
    },
    {
      "cell_type": "code",
      "metadata": {
        "colab": {
          "base_uri": "https://localhost:8080/"
        },
        "id": "DC-uEw-w_WsF",
        "outputId": "8c688146-48f7-483a-94f4-1ae0d72719ca"
      },
      "source": [
        "from google.colab import drive\r\n",
        "drive.mount('/content/drive')"
      ],
      "execution_count": 5,
      "outputs": [
        {
          "output_type": "stream",
          "text": [
            "Mounted at /content/drive\n"
          ],
          "name": "stdout"
        }
      ]
    },
    {
      "cell_type": "code",
      "metadata": {
        "id": "vX8gUyXJ-CFK"
      },
      "source": [
        "import os\r\n",
        "import zipfile\r\n",
        "\r\n",
        "local_zip = '/content/drive/MyDrive/horse-or-human_dataset.zip'\r\n",
        "zip_ref = zipfile.ZipFile(local_zip, 'r')\r\n",
        "zip_ref.extractall('/tmp')\r\n",
        "zip_ref.close()"
      ],
      "execution_count": 8,
      "outputs": []
    },
    {
      "cell_type": "code",
      "metadata": {
        "id": "Re2q_LEzA3mu"
      },
      "source": [
        "base_dir = '/tmp/horse-or-human_dataset'\r\n",
        "train_dir = os.path.join(base_dir, 'train')\r\n",
        "val_dir = os.path.join(base_dir, 'validation')\r\n",
        "\r\n",
        "# Directory with our training horses pictures\r\n",
        "train_horses_dir = os.path.join(train_dir, 'horses')\r\n",
        "# Directory with our training humans pictures\r\n",
        "train_humans_dir = os.path.join(train_dir, 'humans')\r\n",
        "\r\n",
        "# Directory with our test horses pictures\r\n",
        "val_horses_dir = os.path.join(test_dir, 'horses')\r\n",
        "# Directory with our test humans pictures\r\n",
        "val_humans_dir = os.path.join(test_dir, 'humans')"
      ],
      "execution_count": 18,
      "outputs": []
    },
    {
      "cell_type": "code",
      "metadata": {
        "id": "8LriqNhTBaEz"
      },
      "source": [
        "from keras import layers\r\n",
        "from keras import models\r\n",
        "\r\n",
        "model = models.Sequential()\r\n",
        "model.add(layers.Conv2D(32, (3, 3), activation='relu',\r\n",
        "                        input_shape=(150, 150, 3)))\r\n",
        "model.add(layers.MaxPooling2D((2, 2)))\r\n",
        "model.add(layers.Conv2D(64, (3, 3), activation='relu'))\r\n",
        "model.add(layers.MaxPooling2D((2, 2)))\r\n",
        "model.add(layers.Flatten())\r\n",
        "model.add(layers.Dense(512, activation='relu'))\r\n",
        "model.add(layers.Dense(1, activation='sigmoid'))\r\n",
        "\r\n",
        "from keras import optimizers\r\n",
        "\r\n",
        "model.compile(loss='binary_crossentropy',\r\n",
        "              optimizer=optimizers.RMSprop(lr=1e-4),\r\n",
        "              metrics=['acc'])"
      ],
      "execution_count": 19,
      "outputs": []
    },
    {
      "cell_type": "code",
      "metadata": {
        "id": "95UEz3oNGBhM"
      },
      "source": [
        "model.summary()"
      ],
      "execution_count": null,
      "outputs": []
    },
    {
      "cell_type": "code",
      "metadata": {
        "colab": {
          "base_uri": "https://localhost:8080/"
        },
        "id": "zOdoth4BDZGo",
        "outputId": "e54000dd-ad15-4a35-ec84-3d2b806f8f2e"
      },
      "source": [
        "from tensorflow.keras.preprocessing.image import ImageDataGenerator\r\n",
        "\r\n",
        "train_datagen = ImageDataGenerator(rescale=1./255)\r\n",
        "\r\n",
        "# Note that the validation data should not be augmented!\r\n",
        "test_datagen = ImageDataGenerator(rescale=1./255)\r\n",
        "\r\n",
        "\r\n",
        "# Flow training images in batches of 20 using train_datagen generator\r\n",
        "train_generator = train_datagen.flow_from_directory(\r\n",
        "        train_dir,  # This is the source directory for training images\r\n",
        "        target_size=(150, 150),  # All images will be resized to 150x150\r\n",
        "        batch_size=20,\r\n",
        "        # Since we use binary_crossentropy loss, we need binary labels\r\n",
        "        class_mode='binary')\r\n",
        "\r\n",
        "# Flow test images in batches of 20 using test_datagen generator\r\n",
        "test_generator = test_datagen.flow_from_directory(\r\n",
        "        val_dir,\r\n",
        "        target_size=(150, 150),\r\n",
        "        batch_size=20,\r\n",
        "        class_mode='binary')"
      ],
      "execution_count": 21,
      "outputs": [
        {
          "output_type": "stream",
          "text": [
            "Found 1027 images belonging to 2 classes.\n",
            "Found 256 images belonging to 2 classes.\n"
          ],
          "name": "stdout"
        }
      ]
    },
    {
      "cell_type": "code",
      "metadata": {
        "colab": {
          "base_uri": "https://localhost:8080/"
        },
        "id": "cFd_IC7sDolS",
        "outputId": "6ebbcc0c-356c-48b2-a823-929a74ab3964"
      },
      "source": [
        "history = model.fit(\r\n",
        "      train_generator,\r\n",
        "      steps_per_epoch=51,  # 1027 images = batch_size * steps\r\n",
        "      epochs=10,\r\n",
        "      validation_data=test_generator,\r\n",
        "      validation_steps=50)"
      ],
      "execution_count": 23,
      "outputs": [
        {
          "output_type": "stream",
          "text": [
            "Epoch 1/10\n",
            "51/51 [==============================] - ETA: 0s - loss: 0.0034 - acc: 0.9990WARNING:tensorflow:Your input ran out of data; interrupting training. Make sure that your dataset or generator can generate at least `steps_per_epoch * epochs` batches (in this case, 50 batches). You may need to use the repeat() function when building your dataset.\n",
            "51/51 [==============================] - 56s 1s/step - loss: 0.0034 - acc: 0.9990 - val_loss: 1.5883 - val_acc: 0.8477\n",
            "Epoch 2/10\n",
            "51/51 [==============================] - ETA: 0s - loss: 0.0016 - acc: 1.0000WARNING:tensorflow:Your input ran out of data; interrupting training. Make sure that your dataset or generator can generate at least `steps_per_epoch * epochs` batches (in this case, 50 batches). You may need to use the repeat() function when building your dataset.\n",
            "51/51 [==============================] - 55s 1s/step - loss: 0.0016 - acc: 1.0000 - val_loss: 2.3787 - val_acc: 0.7852\n",
            "Epoch 3/10\n",
            "51/51 [==============================] - ETA: 0s - loss: 6.6561e-04 - acc: 1.0000WARNING:tensorflow:Your input ran out of data; interrupting training. Make sure that your dataset or generator can generate at least `steps_per_epoch * epochs` batches (in this case, 50 batches). You may need to use the repeat() function when building your dataset.\n",
            "51/51 [==============================] - 56s 1s/step - loss: 6.6561e-04 - acc: 1.0000 - val_loss: 2.9260 - val_acc: 0.7734\n",
            "Epoch 4/10\n",
            "51/51 [==============================] - ETA: 0s - loss: 0.0178 - acc: 0.9960WARNING:tensorflow:Your input ran out of data; interrupting training. Make sure that your dataset or generator can generate at least `steps_per_epoch * epochs` batches (in this case, 50 batches). You may need to use the repeat() function when building your dataset.\n",
            "51/51 [==============================] - 57s 1s/step - loss: 0.0178 - acc: 0.9960 - val_loss: 3.1908 - val_acc: 0.7500\n",
            "Epoch 5/10\n",
            "51/51 [==============================] - ETA: 0s - loss: 1.5998e-04 - acc: 1.0000WARNING:tensorflow:Your input ran out of data; interrupting training. Make sure that your dataset or generator can generate at least `steps_per_epoch * epochs` batches (in this case, 50 batches). You may need to use the repeat() function when building your dataset.\n",
            "51/51 [==============================] - 57s 1s/step - loss: 1.5998e-04 - acc: 1.0000 - val_loss: 3.4110 - val_acc: 0.7461\n",
            "Epoch 6/10\n",
            "51/51 [==============================] - ETA: 0s - loss: 6.2840e-04 - acc: 1.0000WARNING:tensorflow:Your input ran out of data; interrupting training. Make sure that your dataset or generator can generate at least `steps_per_epoch * epochs` batches (in this case, 50 batches). You may need to use the repeat() function when building your dataset.\n",
            "51/51 [==============================] - 56s 1s/step - loss: 6.2840e-04 - acc: 1.0000 - val_loss: 3.0210 - val_acc: 0.7891\n",
            "Epoch 7/10\n",
            "51/51 [==============================] - ETA: 0s - loss: 7.8093e-05 - acc: 1.0000WARNING:tensorflow:Your input ran out of data; interrupting training. Make sure that your dataset or generator can generate at least `steps_per_epoch * epochs` batches (in this case, 50 batches). You may need to use the repeat() function when building your dataset.\n",
            "51/51 [==============================] - 58s 1s/step - loss: 7.8093e-05 - acc: 1.0000 - val_loss: 3.6393 - val_acc: 0.7500\n",
            "Epoch 8/10\n",
            "51/51 [==============================] - ETA: 0s - loss: 0.0025 - acc: 0.9990WARNING:tensorflow:Your input ran out of data; interrupting training. Make sure that your dataset or generator can generate at least `steps_per_epoch * epochs` batches (in this case, 50 batches). You may need to use the repeat() function when building your dataset.\n",
            "51/51 [==============================] - 55s 1s/step - loss: 0.0025 - acc: 0.9990 - val_loss: 3.3931 - val_acc: 0.7734\n",
            "Epoch 9/10\n",
            "51/51 [==============================] - ETA: 0s - loss: 4.6997e-05 - acc: 1.0000WARNING:tensorflow:Your input ran out of data; interrupting training. Make sure that your dataset or generator can generate at least `steps_per_epoch * epochs` batches (in this case, 50 batches). You may need to use the repeat() function when building your dataset.\n",
            "51/51 [==============================] - 55s 1s/step - loss: 4.6997e-05 - acc: 1.0000 - val_loss: 3.5640 - val_acc: 0.7695\n",
            "Epoch 10/10\n",
            "51/51 [==============================] - ETA: 0s - loss: 9.6458e-04 - acc: 1.0000WARNING:tensorflow:Your input ran out of data; interrupting training. Make sure that your dataset or generator can generate at least `steps_per_epoch * epochs` batches (in this case, 50 batches). You may need to use the repeat() function when building your dataset.\n",
            "51/51 [==============================] - 55s 1s/step - loss: 9.6458e-04 - acc: 1.0000 - val_loss: 3.6664 - val_acc: 0.7617\n"
          ],
          "name": "stdout"
        }
      ]
    },
    {
      "cell_type": "code",
      "metadata": {
        "colab": {
          "base_uri": "https://localhost:8080/",
          "height": 545
        },
        "id": "QesWdAvXIqIb",
        "outputId": "fd460055-e596-4edc-b62b-b3360004935a"
      },
      "source": [
        "import matplotlib.pyplot as plt\r\n",
        "\r\n",
        "acc = history.history['acc']\r\n",
        "val_acc = history.history['val_acc']\r\n",
        "loss = history.history['loss']\r\n",
        "val_loss = history.history['val_loss']\r\n",
        "\r\n",
        "epochs = range(len(acc))\r\n",
        "\r\n",
        "plt.plot(epochs, acc, 'bo', label='Training acc')\r\n",
        "plt.plot(epochs, val_acc, 'b', label='Validation acc')\r\n",
        "plt.title('Training and validation accuracy')\r\n",
        "plt.legend()\r\n",
        "\r\n",
        "plt.figure()\r\n",
        "\r\n",
        "plt.plot(epochs, loss, 'bo', label='Training loss')\r\n",
        "plt.plot(epochs, val_loss, 'b', label='Validation loss')\r\n",
        "plt.title('Training and validation loss')\r\n",
        "plt.legend()\r\n",
        "\r\n",
        "plt.show()"
      ],
      "execution_count": 25,
      "outputs": [
        {
          "output_type": "display_data",
          "data": {
            "image/png": "[encoded data removed]",
            "text/plain": [
              "<Figure size 432x288 with 1 Axes>"
            ]
          },
          "metadata": {
            "tags": [],
            "needs_background": "light"
          }
        },
        {
          "output_type": "display_data",
          "data": {
            "image/png": "[encoded data removed]",
            "text/plain": [
              "<Figure size 432x288 with 1 Axes>"
            ]
          },
          "metadata": {
            "tags": [],
            "needs_background": "light"
          }
        }
      ]
    }
  ]
}