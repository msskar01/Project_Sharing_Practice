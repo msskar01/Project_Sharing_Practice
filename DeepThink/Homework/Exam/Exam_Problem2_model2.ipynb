{
  "nbformat": 4,
  "nbformat_minor": 0,
  "metadata": {
    "colab": {
      "name": "Exam_Problem2_model2.ipynb",
      "provenance": []
    },
    "kernelspec": {
      "name": "python3",
      "display_name": "Python 3"
    }
  },
  "cells": [
    {
      "cell_type": "code",
      "metadata": {
        "colab": {
          "base_uri": "https://localhost:8080/",
          "height": 36
        },
        "id": "y_ru4_1I8Djb",
        "outputId": "c881d2d7-a81d-48dc-881a-b3eeebc5fdfb"
      },
      "source": [
        "import os\r\n",
        "import zipfile\r\n",
        "import random\r\n",
        "import tensorflow as tf\r\n",
        "from tensorflow.keras.optimizers import RMSprop\r\n",
        "from tensorflow.keras.preprocessing.image import ImageDataGenerator\r\n",
        "from shutil import copyfile\r\n",
        "import tensorflow.keras as keras\r\n",
        "keras.__version__"
      ],
      "execution_count": 1,
      "outputs": [
        {
          "output_type": "execute_result",
          "data": {
            "application/vnd.google.colaboratory.intrinsic+json": {
              "type": "string"
            },
            "text/plain": [
              "'2.4.0'"
            ]
          },
          "metadata": {
            "tags": []
          },
          "execution_count": 1
        }
      ]
    },
    {
      "cell_type": "code",
      "metadata": {
        "colab": {
          "base_uri": "https://localhost:8080/"
        },
        "id": "DC-uEw-w_WsF",
        "outputId": "8c688146-48f7-483a-94f4-1ae0d72719ca"
      },
      "source": [
        "from google.colab import drive\r\n",
        "drive.mount('/content/drive')"
      ],
      "execution_count": 5,
      "outputs": [
        {
          "output_type": "stream",
          "text": [
            "Mounted at /content/drive\n"
          ],
          "name": "stdout"
        }
      ]
    },
    {
      "cell_type": "code",
      "metadata": {
        "id": "vX8gUyXJ-CFK"
      },
      "source": [
        "import os\r\n",
        "import zipfile\r\n",
        "\r\n",
        "local_zip = '/content/drive/MyDrive/horse-or-human_dataset.zip'\r\n",
        "zip_ref = zipfile.ZipFile(local_zip, 'r')\r\n",
        "zip_ref.extractall('/tmp')\r\n",
        "zip_ref.close()"
      ],
      "execution_count": 8,
      "outputs": []
    },
    {
      "cell_type": "code",
      "metadata": {
        "id": "Re2q_LEzA3mu"
      },
      "source": [
        "base_dir = '/tmp/horse-or-human_dataset'\r\n",
        "train_dir = os.path.join(base_dir, 'train')\r\n",
        "val_dir = os.path.join(base_dir, 'validation')\r\n",
        "\r\n",
        "# Directory with our training horses pictures\r\n",
        "train_horses_dir = os.path.join(train_dir, 'horses')\r\n",
        "# Directory with our training humans pictures\r\n",
        "train_humans_dir = os.path.join(train_dir, 'humans')\r\n",
        "\r\n",
        "# Directory with our test horses pictures\r\n",
        "val_horses_dir = os.path.join(test_dir, 'horses')\r\n",
        "# Directory with our test humans pictures\r\n",
        "val_humans_dir = os.path.join(test_dir, 'humans')"
      ],
      "execution_count": 18,
      "outputs": []
    },
    {
      "cell_type": "code",
      "metadata": {
        "id": "8LriqNhTBaEz"
      },
      "source": [
        "from keras import layers\r\n",
        "from keras import models\r\n",
        "\r\n",
        "model = models.Sequential()\r\n",
        "model.add(layers.Conv2D(32, (3, 3), activation='relu',\r\n",
        "                        input_shape=(150, 150, 3)))\r\n",
        "model.add(layers.MaxPooling2D((2, 2)))\r\n",
        "model.add(layers.Conv2D(64, (3, 3), activation='relu'))\r\n",
        "model.add(layers.MaxPooling2D((2, 2)))\r\n",
        "model.add(layers.Conv2D(64, (3, 3), activation='relu'))\r\n",
        "model.add(layers.MaxPooling2D((2, 2)))\r\n",
        "model.add(layers.Conv2D(64, (3, 3), activation='relu'))\r\n",
        "model.add(layers.MaxPooling2D((2, 2)))\r\n",
        "model.add(layers.Flatten())\r\n",
        "model.add(layers.Dense(1024, activation='relu'))\r\n",
        "model.add(layers.Dense(1, activation='sigmoid'))\r\n",
        "\r\n",
        "from keras import optimizers\r\n",
        "\r\n",
        "model.compile(loss='binary_crossentropy',\r\n",
        "              optimizer=optimizers.RMSprop(lr=1e-4),\r\n",
        "              metrics=['acc'])"
      ],
      "execution_count": 33,
      "outputs": []
    },
    {
      "cell_type": "code",
      "metadata": {
        "colab": {
          "base_uri": "https://localhost:8080/"
        },
        "id": "95UEz3oNGBhM",
        "outputId": "fe28fd9f-704f-4d0e-be90-c37476ffde93"
      },
      "source": [
        "model.summary()"
      ],
      "execution_count": 28,
      "outputs": [
        {
          "output_type": "stream",
          "text": [
            "Model: \"sequential_4\"\n",
            "_________________________________________________________________\n",
            "Layer (type)                 Output Shape              Param #   \n",
            "=================================================================\n",
            "conv2d_10 (Conv2D)           (None, 148, 148, 32)      896       \n",
            "_________________________________________________________________\n",
            "max_pooling2d_10 (MaxPooling (None, 74, 74, 32)        0         \n",
            "_________________________________________________________________\n",
            "conv2d_11 (Conv2D)           (None, 72, 72, 64)        18496     \n",
            "_________________________________________________________________\n",
            "max_pooling2d_11 (MaxPooling (None, 36, 36, 64)        0         \n",
            "_________________________________________________________________\n",
            "flatten_4 (Flatten)          (None, 82944)             0         \n",
            "_________________________________________________________________\n",
            "dense_8 (Dense)              (None, 512)               42467840  \n",
            "_________________________________________________________________\n",
            "dense_9 (Dense)              (None, 1)                 513       \n",
            "=================================================================\n",
            "Total params: 42,487,745\n",
            "Trainable params: 42,487,745\n",
            "Non-trainable params: 0\n",
            "_________________________________________________________________\n"
          ],
          "name": "stdout"
        }
      ]
    },
    {
      "cell_type": "code",
      "metadata": {
        "colab": {
          "base_uri": "https://localhost:8080/"
        },
        "id": "zOdoth4BDZGo",
        "outputId": "e54000dd-ad15-4a35-ec84-3d2b806f8f2e"
      },
      "source": [
        "from tensorflow.keras.preprocessing.image import ImageDataGenerator\r\n",
        "\r\n",
        "train_datagen = ImageDataGenerator(rescale=1./255)\r\n",
        "\r\n",
        "# Note that the validation data should not be augmented!\r\n",
        "test_datagen = ImageDataGenerator(rescale=1./255)\r\n",
        "\r\n",
        "\r\n",
        "# Flow training images in batches of 20 using train_datagen generator\r\n",
        "train_generator = train_datagen.flow_from_directory(\r\n",
        "        train_dir,  # This is the source directory for training images\r\n",
        "        target_size=(150, 150),  # All images will be resized to 150x150\r\n",
        "        batch_size=20,\r\n",
        "        # Since we use binary_crossentropy loss, we need binary labels\r\n",
        "        class_mode='binary')\r\n",
        "\r\n",
        "# Flow test images in batches of 20 using test_datagen generator\r\n",
        "test_generator = test_datagen.flow_from_directory(\r\n",
        "        val_dir,\r\n",
        "        target_size=(150, 150),\r\n",
        "        batch_size=20,\r\n",
        "        class_mode='binary')"
      ],
      "execution_count": 21,
      "outputs": [
        {
          "output_type": "stream",
          "text": [
            "Found 1027 images belonging to 2 classes.\n",
            "Found 256 images belonging to 2 classes.\n"
          ],
          "name": "stdout"
        }
      ]
    },
    {
      "cell_type": "code",
      "metadata": {
        "colab": {
          "base_uri": "https://localhost:8080/"
        },
        "id": "cFd_IC7sDolS",
        "outputId": "ed3b2420-9472-45a3-f3ae-84c4fbcd6181"
      },
      "source": [
        "history = model.fit(\r\n",
        "      train_generator,\r\n",
        "      steps_per_epoch=51,  # 1027 images = batch_size * steps\r\n",
        "      epochs=10,\r\n",
        "      validation_data=test_generator,\r\n",
        "      validation_steps=12)"
      ],
      "execution_count": 35,
      "outputs": [
        {
          "output_type": "stream",
          "text": [
            "Epoch 1/10\n",
            "51/51 [==============================] - 44s 860ms/step - loss: 0.0175 - acc: 0.9950 - val_loss: 3.0128 - val_acc: 0.7375\n",
            "Epoch 2/10\n",
            "51/51 [==============================] - 44s 855ms/step - loss: 0.0058 - acc: 0.9990 - val_loss: 3.5063 - val_acc: 0.7333\n",
            "Epoch 3/10\n",
            "51/51 [==============================] - 45s 876ms/step - loss: 0.0042 - acc: 0.9990 - val_loss: 4.6618 - val_acc: 0.6667\n",
            "Epoch 4/10\n",
            "51/51 [==============================] - 44s 868ms/step - loss: 0.0100 - acc: 0.9960 - val_loss: 4.2993 - val_acc: 0.6875\n",
            "Epoch 5/10\n",
            "51/51 [==============================] - 44s 855ms/step - loss: 0.0201 - acc: 0.9940 - val_loss: 3.5151 - val_acc: 0.7500\n",
            "Epoch 6/10\n",
            "51/51 [==============================] - 45s 879ms/step - loss: 0.0010 - acc: 1.0000 - val_loss: 3.2974 - val_acc: 0.7708\n",
            "Epoch 7/10\n",
            "51/51 [==============================] - 44s 863ms/step - loss: 0.0026 - acc: 0.9990 - val_loss: 3.6421 - val_acc: 0.7708\n",
            "Epoch 8/10\n",
            "51/51 [==============================] - 44s 852ms/step - loss: 0.0089 - acc: 0.9970 - val_loss: 4.3192 - val_acc: 0.7333\n",
            "Epoch 9/10\n",
            "51/51 [==============================] - 44s 869ms/step - loss: 0.0023 - acc: 0.9980 - val_loss: 3.3725 - val_acc: 0.7833\n",
            "Epoch 10/10\n",
            "51/51 [==============================] - 45s 878ms/step - loss: 0.0061 - acc: 0.9970 - val_loss: 3.8887 - val_acc: 0.7375\n"
          ],
          "name": "stdout"
        }
      ]
    },
    {
      "cell_type": "code",
      "metadata": {
        "colab": {
          "base_uri": "https://localhost:8080/",
          "height": 545
        },
        "id": "QesWdAvXIqIb",
        "outputId": "f489d8a4-f6a0-4ec1-b09a-a36383bfc97a"
      },
      "source": [
        "import matplotlib.pyplot as plt\r\n",
        "\r\n",
        "acc = history.history['acc']\r\n",
        "val_acc = history.history['val_acc']\r\n",
        "loss = history.history['loss']\r\n",
        "val_loss = history.history['val_loss']\r\n",
        "\r\n",
        "epochs = range(len(acc))\r\n",
        "\r\n",
        "plt.plot(epochs, acc, 'bo', label='Training acc')\r\n",
        "plt.plot(epochs, val_acc, 'b', label='Validation acc')\r\n",
        "plt.title('Training and validation accuracy')\r\n",
        "plt.legend()\r\n",
        "\r\n",
        "plt.figure()\r\n",
        "\r\n",
        "plt.plot(epochs, loss, 'bo', label='Training loss')\r\n",
        "plt.plot(epochs, val_loss, 'b', label='Validation loss')\r\n",
        "plt.title('Training and validation loss')\r\n",
        "plt.legend()\r\n",
        "\r\n",
        "plt.show()"
      ],
      "execution_count": 36,
      "outputs": [
        {
          "output_type": "display_data",
          "data": {
            "image/png": "[encoded data removed]",
            "text/plain": [
              "<Figure size 432x288 with 1 Axes>"
            ]
          },
          "metadata": {
            "tags": [],
            "needs_background": "light"
          }
        },
        {
          "output_type": "display_data",
          "data": {
            "image/png": "[encoded data removed]",
            "text/plain": [
              "<Figure size 432x288 with 1 Axes>"
            ]
          },
          "metadata": {
            "tags": [],
            "needs_background": "light"
          }
        }
      ]
    }
  ]
}