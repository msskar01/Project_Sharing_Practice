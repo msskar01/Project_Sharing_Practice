{
  "nbformat": 4,
  "nbformat_minor": 0,
  "metadata": {
    "colab": {
      "name": "Exam_Problem2_model3.ipynb",
      "provenance": []
    },
    "kernelspec": {
      "name": "python3",
      "display_name": "Python 3"
    }
  },
  "cells": [
    {
      "cell_type": "code",
      "metadata": {
        "id": "y_ru4_1I8Djb"
      },
      "source": [
        "import os\r\n",
        "import zipfile\r\n",
        "import random\r\n",
        "import tensorflow as tf\r\n",
        "from tensorflow.keras.optimizers import RMSprop\r\n",
        "from tensorflow.keras.preprocessing.image import ImageDataGenerator\r\n",
        "from shutil import copyfile\r\n",
        "import tensorflow.keras as keras\r\n",
        "keras.__version__\r\n",
        "from keras.regularizers import l2"
      ],
      "execution_count": 40,
      "outputs": []
    },
    {
      "cell_type": "code",
      "metadata": {
        "colab": {
          "base_uri": "https://localhost:8080/"
        },
        "id": "DC-uEw-w_WsF",
        "outputId": "8c688146-48f7-483a-94f4-1ae0d72719ca"
      },
      "source": [
        "from google.colab import drive\r\n",
        "drive.mount('/content/drive')"
      ],
      "execution_count": 5,
      "outputs": [
        {
          "output_type": "stream",
          "text": [
            "Mounted at /content/drive\n"
          ],
          "name": "stdout"
        }
      ]
    },
    {
      "cell_type": "code",
      "metadata": {
        "id": "vX8gUyXJ-CFK"
      },
      "source": [
        "import os\r\n",
        "import zipfile\r\n",
        "\r\n",
        "local_zip = '/content/drive/MyDrive/horse-or-human_dataset.zip'\r\n",
        "zip_ref = zipfile.ZipFile(local_zip, 'r')\r\n",
        "zip_ref.extractall('/tmp')\r\n",
        "zip_ref.close()"
      ],
      "execution_count": 8,
      "outputs": []
    },
    {
      "cell_type": "code",
      "metadata": {
        "id": "Re2q_LEzA3mu"
      },
      "source": [
        "base_dir = '/tmp/horse-or-human_dataset'\r\n",
        "train_dir = os.path.join(base_dir, 'train')\r\n",
        "val_dir = os.path.join(base_dir, 'validation')\r\n",
        "\r\n",
        "# Directory with our training horses pictures\r\n",
        "train_horses_dir = os.path.join(train_dir, 'horses')\r\n",
        "# Directory with our training humans pictures\r\n",
        "train_humans_dir = os.path.join(train_dir, 'humans')\r\n",
        "\r\n",
        "# Directory with our test horses pictures\r\n",
        "val_horses_dir = os.path.join(test_dir, 'horses')\r\n",
        "# Directory with our test humans pictures\r\n",
        "val_humans_dir = os.path.join(test_dir, 'humans')"
      ],
      "execution_count": 18,
      "outputs": []
    },
    {
      "cell_type": "code",
      "metadata": {
        "id": "8LriqNhTBaEz"
      },
      "source": [
        "from keras import layers\r\n",
        "from keras import models\r\n",
        "\r\n",
        "model = models.Sequential()\r\n",
        "model.add(layers.Conv2D(32, (3, 3), activation='relu',\r\n",
        "                        input_shape=(150, 150, 3)))\r\n",
        "model.add(layers.MaxPooling2D((2, 2)))\r\n",
        "model.add(layers.Conv2D(64, (3, 3), activation='relu'))\r\n",
        "model.add(layers.MaxPooling2D((2, 2)))\r\n",
        "model.add(layers.Conv2D(64, (3, 3), activation='relu'))\r\n",
        "model.add(layers.MaxPooling2D((2, 2)))\r\n",
        "model.add(layers.Conv2D(64, (3, 3), activation='relu'))\r\n",
        "model.add(layers.MaxPooling2D((2, 2)))\r\n",
        "model.add(layers.Flatten())\r\n",
        "model.add(layers.Dropout(0.5))\r\n",
        "model.add(layers.Dense(1024, activation='relu'))\r\n",
        "model.add(layers.Dense(1, activation='sigmoid', kernel_regularizer=l2(0.01), bias_regularizer=l2(0.01)))\r\n",
        "\r\n",
        "from keras import optimizers\r\n",
        "\r\n",
        "model.compile(loss='binary_crossentropy',\r\n",
        "              optimizer=optimizers.RMSprop(lr=1e-4),\r\n",
        "              metrics=['acc'])"
      ],
      "execution_count": 45,
      "outputs": []
    },
    {
      "cell_type": "code",
      "metadata": {
        "colab": {
          "base_uri": "https://localhost:8080/"
        },
        "id": "95UEz3oNGBhM",
        "outputId": "fe28fd9f-704f-4d0e-be90-c37476ffde93"
      },
      "source": [
        "model.summary()"
      ],
      "execution_count": 28,
      "outputs": [
        {
          "output_type": "stream",
          "text": [
            "Model: \"sequential_4\"\n",
            "_________________________________________________________________\n",
            "Layer (type)                 Output Shape              Param #   \n",
            "=================================================================\n",
            "conv2d_10 (Conv2D)           (None, 148, 148, 32)      896       \n",
            "_________________________________________________________________\n",
            "max_pooling2d_10 (MaxPooling (None, 74, 74, 32)        0         \n",
            "_________________________________________________________________\n",
            "conv2d_11 (Conv2D)           (None, 72, 72, 64)        18496     \n",
            "_________________________________________________________________\n",
            "max_pooling2d_11 (MaxPooling (None, 36, 36, 64)        0         \n",
            "_________________________________________________________________\n",
            "flatten_4 (Flatten)          (None, 82944)             0         \n",
            "_________________________________________________________________\n",
            "dense_8 (Dense)              (None, 512)               42467840  \n",
            "_________________________________________________________________\n",
            "dense_9 (Dense)              (None, 1)                 513       \n",
            "=================================================================\n",
            "Total params: 42,487,745\n",
            "Trainable params: 42,487,745\n",
            "Non-trainable params: 0\n",
            "_________________________________________________________________\n"
          ],
          "name": "stdout"
        }
      ]
    },
    {
      "cell_type": "code",
      "metadata": {
        "colab": {
          "base_uri": "https://localhost:8080/"
        },
        "id": "zOdoth4BDZGo",
        "outputId": "310176ad-a584-4ee9-d390-78ee97f0f714"
      },
      "source": [
        "from tensorflow.keras.preprocessing.image import ImageDataGenerator\r\n",
        "\r\n",
        "train_datagen = ImageDataGenerator(\r\n",
        "      rescale=1./255,\r\n",
        "      rotation_range=40,\r\n",
        "      width_shift_range=0.2,\r\n",
        "      height_shift_range=0.2,\r\n",
        "      shear_range=0.2,\r\n",
        "      zoom_range=0.2,\r\n",
        "      horizontal_flip=True,\r\n",
        "      fill_mode='nearest')\r\n",
        "\r\n",
        "# Note that the validation data should not be augmented!\r\n",
        "test_datagen = ImageDataGenerator(rescale=1./255)\r\n",
        "\r\n",
        "\r\n",
        "# Flow training images in batches of 20 using train_datagen generator\r\n",
        "train_generator = train_datagen.flow_from_directory(\r\n",
        "        train_dir,  # This is the source directory for training images\r\n",
        "        target_size=(150, 150),  # All images will be resized to 150x150\r\n",
        "        batch_size=20,\r\n",
        "        # Since we use binary_crossentropy loss, we need binary labels\r\n",
        "        class_mode='binary')\r\n",
        "\r\n",
        "# Flow test images in batches of 20 using test_datagen generator\r\n",
        "test_generator = test_datagen.flow_from_directory(\r\n",
        "        val_dir,\r\n",
        "        target_size=(150, 150),\r\n",
        "        batch_size=20,\r\n",
        "        class_mode='binary')"
      ],
      "execution_count": 42,
      "outputs": [
        {
          "output_type": "stream",
          "text": [
            "Found 1027 images belonging to 2 classes.\n",
            "Found 256 images belonging to 2 classes.\n"
          ],
          "name": "stdout"
        }
      ]
    },
    {
      "cell_type": "code",
      "metadata": {
        "colab": {
          "base_uri": "https://localhost:8080/"
        },
        "id": "cFd_IC7sDolS",
        "outputId": "4f308abb-8646-4137-de25-2a3e58b4b421"
      },
      "source": [
        "history = model.fit(\r\n",
        "      train_generator,\r\n",
        "      steps_per_epoch=51,  # 1027 images = batch_size * steps\r\n",
        "      epochs=10,\r\n",
        "      validation_data=test_generator,\r\n",
        "      validation_steps=12)"
      ],
      "execution_count": 46,
      "outputs": [
        {
          "output_type": "stream",
          "text": [
            "Epoch 1/10\n",
            "51/51 [==============================] - 50s 963ms/step - loss: 0.7148 - acc: 0.5195 - val_loss: 0.6777 - val_acc: 0.5125\n",
            "Epoch 2/10\n",
            "51/51 [==============================] - 49s 954ms/step - loss: 0.6769 - acc: 0.6474 - val_loss: 0.5496 - val_acc: 0.6833\n",
            "Epoch 3/10\n",
            "51/51 [==============================] - 50s 971ms/step - loss: 0.5550 - acc: 0.7397 - val_loss: 0.5718 - val_acc: 0.7000\n",
            "Epoch 4/10\n",
            "51/51 [==============================] - 50s 976ms/step - loss: 0.5347 - acc: 0.7510 - val_loss: 0.8655 - val_acc: 0.6083\n",
            "Epoch 5/10\n",
            "51/51 [==============================] - 50s 974ms/step - loss: 0.4822 - acc: 0.7791 - val_loss: 1.4875 - val_acc: 0.5542\n",
            "Epoch 6/10\n",
            "51/51 [==============================] - 50s 983ms/step - loss: 0.4206 - acc: 0.8189 - val_loss: 1.7617 - val_acc: 0.5333\n",
            "Epoch 7/10\n",
            "51/51 [==============================] - 50s 971ms/step - loss: 0.4204 - acc: 0.8276 - val_loss: 1.5570 - val_acc: 0.5708\n",
            "Epoch 8/10\n",
            "51/51 [==============================] - 50s 984ms/step - loss: 0.3626 - acc: 0.8451 - val_loss: 1.5397 - val_acc: 0.6125\n",
            "Epoch 9/10\n",
            "51/51 [==============================] - 50s 981ms/step - loss: 0.3745 - acc: 0.8388 - val_loss: 2.3243 - val_acc: 0.5292\n",
            "Epoch 10/10\n",
            "51/51 [==============================] - 49s 964ms/step - loss: 0.3200 - acc: 0.8772 - val_loss: 3.0207 - val_acc: 0.5125\n"
          ],
          "name": "stdout"
        }
      ]
    },
    {
      "cell_type": "code",
      "metadata": {
        "colab": {
          "base_uri": "https://localhost:8080/",
          "height": 545
        },
        "id": "QesWdAvXIqIb",
        "outputId": "f8ab6e45-edca-4bd4-f93c-13fcfab9533a"
      },
      "source": [
        "import matplotlib.pyplot as plt\r\n",
        "\r\n",
        "acc = history.history['acc']\r\n",
        "val_acc = history.history['val_acc']\r\n",
        "loss = history.history['loss']\r\n",
        "val_loss = history.history['val_loss']\r\n",
        "\r\n",
        "epochs = range(len(acc))\r\n",
        "\r\n",
        "plt.plot(epochs, acc, 'bo', label='Training acc')\r\n",
        "plt.plot(epochs, val_acc, 'b', label='Validation acc')\r\n",
        "plt.title('Training and validation accuracy')\r\n",
        "plt.legend()\r\n",
        "\r\n",
        "plt.figure()\r\n",
        "\r\n",
        "plt.plot(epochs, loss, 'bo', label='Training loss')\r\n",
        "plt.plot(epochs, val_loss, 'b', label='Validation loss')\r\n",
        "plt.title('Training and validation loss')\r\n",
        "plt.legend()\r\n",
        "\r\n",
        "plt.show()"
      ],
      "execution_count": 47,
      "outputs": [
        {
          "output_type": "display_data",
          "data": {
            "image/png": "[encoded data removed]",
            "text/plain": [
              "<Figure size 432x288 with 1 Axes>"
            ]
          },
          "metadata": {
            "tags": [],
            "needs_background": "light"
          }
        },
        {
          "output_type": "display_data",
          "data": {
            "image/png": "[encoded data removed]",
            "text/plain": [
              "<Figure size 432x288 with 1 Axes>"
            ]
          },
          "metadata": {
            "tags": [],
            "needs_background": "light"
          }
        }
      ]
    }
  ]
}