{
 "cells": [
  {
   "cell_type": "code",
   "execution_count": 37,
   "id": "9ad560c4",
   "metadata": {},
   "outputs": [],
   "source": [
    "from sklearn import datasets\n",
    "from sklearn import model_selection\n",
    "import numpy as np\n",
    "from sklearn import preprocessing\n",
    "from sklearn.model_selection import train_test_split\n",
    "import pandas as pd"
   ]
  },
  {
   "cell_type": "code",
   "execution_count": 38,
   "id": "7b8f297f",
   "metadata": {},
   "outputs": [],
   "source": [
    "df = pd.read_csv('edit_housing.csv')"
   ]
  },
  {
   "cell_type": "code",
   "execution_count": 39,
   "id": "3616d216",
   "metadata": {},
   "outputs": [
    {
     "data": {
      "text/html": [
       "<div>\n",
       "<style scoped>\n",
       "    .dataframe tbody tr th:only-of-type {\n",
       "        vertical-align: middle;\n",
       "    }\n",
       "\n",
       "    .dataframe tbody tr th {\n",
       "        vertical-align: top;\n",
       "    }\n",
       "\n",
       "    .dataframe thead th {\n",
       "        text-align: right;\n",
       "    }\n",
       "</style>\n",
       "<table border=\"1\" class=\"dataframe\">\n",
       "  <thead>\n",
       "    <tr style=\"text-align: right;\">\n",
       "      <th></th>\n",
       "      <th>id</th>\n",
       "      <th>region</th>\n",
       "      <th>price</th>\n",
       "      <th>type</th>\n",
       "      <th>sqfeet</th>\n",
       "      <th>beds</th>\n",
       "      <th>baths</th>\n",
       "      <th>cats_allowed</th>\n",
       "      <th>dogs_allowed</th>\n",
       "      <th>smoking_allowed</th>\n",
       "      <th>wheelchair_access</th>\n",
       "      <th>electric_vehicle_charge</th>\n",
       "      <th>comes_furnished</th>\n",
       "      <th>laundry_options</th>\n",
       "      <th>parking_options</th>\n",
       "      <th>lat</th>\n",
       "      <th>long</th>\n",
       "      <th>state</th>\n",
       "    </tr>\n",
       "  </thead>\n",
       "  <tbody>\n",
       "    <tr>\n",
       "      <th>362053</th>\n",
       "      <td>7049053337</td>\n",
       "      <td>reno / tahoe</td>\n",
       "      <td>1295</td>\n",
       "      <td>apartment</td>\n",
       "      <td>957</td>\n",
       "      <td>2</td>\n",
       "      <td>2.0</td>\n",
       "      <td>1</td>\n",
       "      <td>1</td>\n",
       "      <td>1</td>\n",
       "      <td>0</td>\n",
       "      <td>0</td>\n",
       "      <td>0</td>\n",
       "      <td>w/d in unit</td>\n",
       "      <td>carport</td>\n",
       "      <td>39.4477</td>\n",
       "      <td>-119.771</td>\n",
       "      <td>ca</td>\n",
       "    </tr>\n",
       "    <tr>\n",
       "      <th>362054</th>\n",
       "      <td>7049052968</td>\n",
       "      <td>reno / tahoe</td>\n",
       "      <td>1549</td>\n",
       "      <td>apartment</td>\n",
       "      <td>1034</td>\n",
       "      <td>2</td>\n",
       "      <td>2.0</td>\n",
       "      <td>1</td>\n",
       "      <td>1</td>\n",
       "      <td>0</td>\n",
       "      <td>0</td>\n",
       "      <td>0</td>\n",
       "      <td>0</td>\n",
       "      <td>w/d in unit</td>\n",
       "      <td>no parking</td>\n",
       "      <td>39.6269</td>\n",
       "      <td>-119.708</td>\n",
       "      <td>ca</td>\n",
       "    </tr>\n",
       "    <tr>\n",
       "      <th>362055</th>\n",
       "      <td>7049050454</td>\n",
       "      <td>reno / tahoe</td>\n",
       "      <td>1249</td>\n",
       "      <td>apartment</td>\n",
       "      <td>840</td>\n",
       "      <td>2</td>\n",
       "      <td>1.0</td>\n",
       "      <td>1</td>\n",
       "      <td>1</td>\n",
       "      <td>1</td>\n",
       "      <td>0</td>\n",
       "      <td>0</td>\n",
       "      <td>0</td>\n",
       "      <td>laundry on site</td>\n",
       "      <td>off-street parking</td>\n",
       "      <td>39.5358</td>\n",
       "      <td>-119.746</td>\n",
       "      <td>ca</td>\n",
       "    </tr>\n",
       "    <tr>\n",
       "      <th>362056</th>\n",
       "      <td>7049050149</td>\n",
       "      <td>reno / tahoe</td>\n",
       "      <td>1429</td>\n",
       "      <td>apartment</td>\n",
       "      <td>976</td>\n",
       "      <td>2</td>\n",
       "      <td>2.0</td>\n",
       "      <td>1</td>\n",
       "      <td>1</td>\n",
       "      <td>1</td>\n",
       "      <td>0</td>\n",
       "      <td>0</td>\n",
       "      <td>0</td>\n",
       "      <td>w/d in unit</td>\n",
       "      <td>carport</td>\n",
       "      <td>39.5585</td>\n",
       "      <td>-119.703</td>\n",
       "      <td>ca</td>\n",
       "    </tr>\n",
       "    <tr>\n",
       "      <th>362057</th>\n",
       "      <td>7049050010</td>\n",
       "      <td>reno / tahoe</td>\n",
       "      <td>1295</td>\n",
       "      <td>apartment</td>\n",
       "      <td>957</td>\n",
       "      <td>2</td>\n",
       "      <td>2.0</td>\n",
       "      <td>1</td>\n",
       "      <td>1</td>\n",
       "      <td>1</td>\n",
       "      <td>0</td>\n",
       "      <td>0</td>\n",
       "      <td>0</td>\n",
       "      <td>w/d in unit</td>\n",
       "      <td>carport</td>\n",
       "      <td>39.4477</td>\n",
       "      <td>-119.771</td>\n",
       "      <td>ca</td>\n",
       "    </tr>\n",
       "  </tbody>\n",
       "</table>\n",
       "</div>"
      ],
      "text/plain": [
       "                id        region  price       type  sqfeet  beds  baths  \\\n",
       "362053  7049053337  reno / tahoe   1295  apartment     957     2    2.0   \n",
       "362054  7049052968  reno / tahoe   1549  apartment    1034     2    2.0   \n",
       "362055  7049050454  reno / tahoe   1249  apartment     840     2    1.0   \n",
       "362056  7049050149  reno / tahoe   1429  apartment     976     2    2.0   \n",
       "362057  7049050010  reno / tahoe   1295  apartment     957     2    2.0   \n",
       "\n",
       "        cats_allowed  dogs_allowed  smoking_allowed  wheelchair_access  \\\n",
       "362053             1             1                1                  0   \n",
       "362054             1             1                0                  0   \n",
       "362055             1             1                1                  0   \n",
       "362056             1             1                1                  0   \n",
       "362057             1             1                1                  0   \n",
       "\n",
       "        electric_vehicle_charge  comes_furnished  laundry_options  \\\n",
       "362053                        0                0      w/d in unit   \n",
       "362054                        0                0      w/d in unit   \n",
       "362055                        0                0  laundry on site   \n",
       "362056                        0                0      w/d in unit   \n",
       "362057                        0                0      w/d in unit   \n",
       "\n",
       "           parking_options      lat     long state  \n",
       "362053             carport  39.4477 -119.771    ca  \n",
       "362054          no parking  39.6269 -119.708    ca  \n",
       "362055  off-street parking  39.5358 -119.746    ca  \n",
       "362056             carport  39.5585 -119.703    ca  \n",
       "362057             carport  39.4477 -119.771    ca  "
      ]
     },
     "execution_count": 39,
     "metadata": {},
     "output_type": "execute_result"
    }
   ],
   "source": [
    "df.tail()"
   ]
  },
  {
   "cell_type": "code",
   "execution_count": 40,
   "id": "4c15ac3f",
   "metadata": {},
   "outputs": [
    {
     "name": "stdout",
     "output_type": "stream",
     "text": [
      "['ca' 'co' 'ct' 'dc' 'fl' 'de' 'ga' 'hi' 'id' 'il' 'in' 'ia' 'ks' 'ky'\n",
      " 'la' 'me' 'mi' 'md' 'ma' 'mn' 'ms' 'nc' 'mo' 'mt' 'ne' 'nv' 'nj' 'nm'\n",
      " 'ny' 'nh' 'oh' 'nd' 'ok' 'or' 'pa' 'ri' 'sc' 'tn' 'sd' 'tx' 'ut' 'va'\n",
      " 'vt' 'wa' 'wv' 'wi' 'wy' 'al' 'az' 'ak' 'ar']\n"
     ]
    }
   ],
   "source": [
    "print(df['state'].unique())"
   ]
  },
  {
   "cell_type": "code",
   "execution_count": 41,
   "id": "29f8a81c",
   "metadata": {},
   "outputs": [],
   "source": [
    "unique_vals = df['state'].unique()\n",
    "df['state'].replace(to_replace=unique_vals,\n",
    "           value= list(range(len(unique_vals))),\n",
    "           inplace=True)"
   ]
  },
  {
   "cell_type": "code",
   "execution_count": 42,
   "id": "c902e807",
   "metadata": {},
   "outputs": [],
   "source": [
    "unique_vals = df['region'].unique()\n",
    "df['region'].replace(to_replace=unique_vals,\n",
    "           value= list(range(len(unique_vals))),\n",
    "           inplace=True)"
   ]
  },
  {
   "cell_type": "code",
   "execution_count": 43,
   "id": "6b1954c4",
   "metadata": {},
   "outputs": [],
   "source": [
    "unique_vals = df['type'].unique()\n",
    "df['type'].replace(to_replace=unique_vals,\n",
    "           value= list(range(len(unique_vals))),\n",
    "           inplace=True)"
   ]
  },
  {
   "cell_type": "code",
   "execution_count": 44,
   "id": "97b80ce0",
   "metadata": {},
   "outputs": [],
   "source": [
    "unique_vals = df['parking_options'].unique()\n",
    "df['parking_options'].replace(to_replace=unique_vals,\n",
    "           value= list(range(len(unique_vals))),\n",
    "           inplace=True)"
   ]
  },
  {
   "cell_type": "code",
   "execution_count": 45,
   "id": "afd190c3",
   "metadata": {},
   "outputs": [],
   "source": [
    "unique_vals = df['laundry_options'].unique()\n",
    "df['laundry_options'].replace(to_replace=unique_vals,\n",
    "           value= list(range(len(unique_vals))),\n",
    "           inplace=True)"
   ]
  },
  {
   "cell_type": "code",
   "execution_count": 46,
   "id": "18fe028e",
   "metadata": {},
   "outputs": [
    {
     "name": "stdout",
     "output_type": "stream",
     "text": [
      "[  0   1   2   3   4   5   6   7   8   9  10  11  12  13  14  15  16  17\n",
      "  18  19  20  21  22  23  24  25  26  27  28  29  30  31  32  33  34  35\n",
      "  36  37  38  39  40  41  42  43  44  45  46  47  48  49  50  51  52  53\n",
      "  54  55  56  57  58  59  60  61  62  63  64  65  66  67  68  69  70  71\n",
      "  72  73  74  75  76  77  78  79  80  81  82  83  84  85  86  87  88  89\n",
      "  90  91  92  93  94  95  96  97  98  99 100 101 102 103 104 105 106 107\n",
      " 108 109 110 111 112 113 114 115 116 117 118 119 120 121 122 123 124 125\n",
      " 126 127 128 129 130 131 132 133 134 135 136 137 138 139 140 141 142 143\n",
      " 144 145 146 147 148 149 150 151 152 153 154 155 156 157 158 159 160 161\n",
      " 162 163 164 165 166 167 168 169 170 171 172 173 174 175 176 177 178 179\n",
      " 180 181 182 183 184 185 186 187 188 189 190 191 192 193 194 195 196 197\n",
      " 198 199 200 201 202 203 204 205 206 207 208 209 210 211 212 213 214 215\n",
      " 216 217 218 219 220 221 222 223 224 225 226 227 228 229 230 231 232 233\n",
      " 234 235 236 237 238 239 240 241 242 243 244 245 246 247 248 249 250 251\n",
      " 252 253 254 255 256 257 258 259 260 261 262 263 264 265 266 267 268 269\n",
      " 270 271 272 273 274 275 276 277 278 279 280 281 282 283 284 285 286 287\n",
      " 288 289 290 291 292 293 294 295 296 297 298 299 300 301 302 303 304 305\n",
      " 306 307 308 309 310 311 312 313 314 315 316 317 318 319 320 321 322 323\n",
      " 324 325 326 327 328 329 330 331 332 333 334 335 336 337 338 339 340 341\n",
      " 342 343 344 345 346 347 348 349 350 351 352 353 354 355 356 357 358 359\n",
      " 360 361 362 363 364 365 366 367 368 369 370 371 372 373 374 375 376 377\n",
      " 378 379 380 381 382 383 384 385 386 387 388 389 390 391 392 393 394 395\n",
      " 396 397 398 399 400 401 402 403]\n"
     ]
    }
   ],
   "source": [
    "print(df['region'].unique())"
   ]
  },
  {
   "cell_type": "code",
   "execution_count": 47,
   "id": "4b2a28f8",
   "metadata": {},
   "outputs": [],
   "source": [
    "#Drop IDs, we dont need it\n",
    "df.drop(['id'], inplace=True, axis=1)"
   ]
  },
  {
   "cell_type": "code",
   "execution_count": 48,
   "id": "b70a0193",
   "metadata": {},
   "outputs": [],
   "source": [
    "#Replace missing values, there are some missing veryables, replace with outliers\n",
    "df.replace('?', -99999, inplace=True)"
   ]
  },
  {
   "cell_type": "code",
   "execution_count": 49,
   "id": "514c4d8f",
   "metadata": {},
   "outputs": [
    {
     "data": {
      "text/plain": [
       "((362058, 16), (362058,))"
      ]
     },
     "execution_count": 49,
     "metadata": {},
     "output_type": "execute_result"
    }
   ],
   "source": [
    "# Separate features and the target variable\n",
    "X = np.array(df.drop(['price'], axis=1))\n",
    "y = np.array(df['price'])\n",
    "X.shape, y.shape"
   ]
  },
  {
   "cell_type": "code",
   "execution_count": 50,
   "id": "f4dceadc",
   "metadata": {},
   "outputs": [],
   "source": [
    "# Normalize the data, technically optional\n",
    "scaler = preprocessing.MinMaxScaler()\n",
    "X = scaler.fit_transform(X)"
   ]
  },
  {
   "cell_type": "code",
   "execution_count": 51,
   "id": "3c54b925",
   "metadata": {},
   "outputs": [],
   "source": [
    "#Split into training and testing\n",
    "X_train, X_test, y_train, y_test = train_test_split(\n",
    "    X, y, test_size=0.2)"
   ]
  },
  {
   "cell_type": "code",
   "execution_count": 52,
   "id": "016aaf39",
   "metadata": {},
   "outputs": [
    {
     "data": {
      "text/plain": [
       "array([ 900, 1799, 1265, ..., 1270,  910,  975], dtype=int64)"
      ]
     },
     "execution_count": 52,
     "metadata": {},
     "output_type": "execute_result"
    }
   ],
   "source": [
    "y_test"
   ]
  },
  {
   "cell_type": "code",
   "execution_count": 53,
   "id": "0cca9d5e",
   "metadata": {},
   "outputs": [
    {
     "data": {
      "text/plain": [
       "((289646, 16),\n",
       " (289646,),\n",
       " array([[0.32754342, 0.        , 0.05056394, ..., 0.58932344, 0.27373554,\n",
       "         0.36      ],\n",
       "        [0.        , 0.        , 0.03910942, ..., 0.57064711, 0.13091669,\n",
       "         0.        ],\n",
       "        [0.32258065, 0.        , 0.01025341, ..., 0.58574919, 0.27565871,\n",
       "         0.36      ],\n",
       "        ...,\n",
       "        [0.17121588, 0.36363636, 0.0398711 , ..., 0.56470904, 0.21822409,\n",
       "         0.18      ],\n",
       "        [0.57320099, 0.        , 0.02812363, ..., 0.62082252, 0.18753324,\n",
       "         0.62      ],\n",
       "        [0.53846154, 0.        , 0.01757727, ..., 0.59652756, 0.27612257,\n",
       "         0.58      ]]))"
      ]
     },
     "execution_count": 53,
     "metadata": {},
     "output_type": "execute_result"
    }
   ],
   "source": [
    "X_train.shape, y_train.shape, X_test"
   ]
  },
  {
   "cell_type": "code",
   "execution_count": 54,
   "id": "6542f15d",
   "metadata": {},
   "outputs": [],
   "source": [
    "#Create model\n",
    "import tensorflow as tf\n",
    "model = tf.keras.models.Sequential([\n",
    "    #tf.keras.layers.Flatten(),\n",
    "    tf.keras.layers.Dense(1,activation='sigmoid') # one dense layer with an activation of sigmoid\n",
    "])"
   ]
  },
  {
   "cell_type": "code",
   "execution_count": 55,
   "id": "97988d2e",
   "metadata": {},
   "outputs": [],
   "source": [
    "# Define optimizer and loss function\n",
    "opt = tf.keras.optimizers.SGD()   # optimizer using gradient desent\n",
    "\n",
    "model.compile(optimizer=opt,      # loss function is binary corssentropy, metric used to availuate model accuracy\n",
    "loss='binary_crossentropy',\n",
    "metrics=['accuracy'])"
   ]
  },
  {
   "cell_type": "code",
   "execution_count": 56,
   "id": "0f036ef3",
   "metadata": {},
   "outputs": [
    {
     "name": "stdout",
     "output_type": "stream",
     "text": [
      "Epoch 1/10\n",
      "4526/4526 [==============================] - 3s 514us/step - loss: nan - accuracy: 0.0036 - val_loss: nan - val_accuracy: 0.0031\n",
      "Epoch 2/10\n",
      "4526/4526 [==============================] - 2s 494us/step - loss: nan - accuracy: 0.0036 - val_loss: nan - val_accuracy: 0.0031\n",
      "Epoch 3/10\n",
      "4526/4526 [==============================] - 2s 501us/step - loss: nan - accuracy: 0.0036 - val_loss: nan - val_accuracy: 0.0031\n",
      "Epoch 4/10\n",
      "4526/4526 [==============================] - 2s 502us/step - loss: nan - accuracy: 0.0036 - val_loss: nan - val_accuracy: 0.0031\n",
      "Epoch 5/10\n",
      "4526/4526 [==============================] - 2s 503us/step - loss: nan - accuracy: 0.0036 - val_loss: nan - val_accuracy: 0.0031\n",
      "Epoch 6/10\n",
      "4526/4526 [==============================] - 2s 499us/step - loss: nan - accuracy: 0.0036 - val_loss: nan - val_accuracy: 0.0031\n",
      "Epoch 7/10\n",
      "4526/4526 [==============================] - 2s 504us/step - loss: nan - accuracy: 0.0036 - val_loss: nan - val_accuracy: 0.0031\n",
      "Epoch 8/10\n",
      "4526/4526 [==============================] - 2s 502us/step - loss: nan - accuracy: 0.0036 - val_loss: nan - val_accuracy: 0.0031\n",
      "Epoch 9/10\n",
      "4526/4526 [==============================] - 2s 508us/step - loss: nan - accuracy: 0.0036 - val_loss: nan - val_accuracy: 0.0031\n",
      "Epoch 10/10\n",
      "4526/4526 [==============================] - 2s 502us/step - loss: nan - accuracy: 0.0036 - val_loss: nan - val_accuracy: 0.0031\n"
     ]
    }
   ],
   "source": [
    "history = model.fit(X_train, y_train, epochs=10,batch_size = 64, validation_data=(X_test, y_test))"
   ]
  },
  {
   "cell_type": "code",
   "execution_count": 36,
   "id": "6c7fac5b",
   "metadata": {},
   "outputs": [
    {
     "data": {
      "image/png": "[encoded data removed]",
      "text/plain": [
       "<Figure size 432x288 with 1 Axes>"
      ]
     },
     "metadata": {
      "needs_background": "light"
     },
     "output_type": "display_data"
    },
    {
     "data": {
      "image/png": "[encoded data removed]",
      "text/plain": [
       "<Figure size 432x288 with 1 Axes>"
      ]
     },
     "metadata": {
      "needs_background": "light"
     },
     "output_type": "display_data"
    }
   ],
   "source": [
    "import matplotlib.pyplot as plt\n",
    "# summarize history for accuracy\n",
    "plt.plot(history.history['accuracy'])\n",
    "plt.plot(history.history['val_accuracy'])\n",
    "plt.title('model accuracy')\n",
    "plt.ylabel('accuracy')\n",
    "plt.xlabel('epoch')\n",
    "plt.legend(['train', 'test'], loc='upper left')\n",
    "plt.show()\n",
    "# summarize history for loss\n",
    "plt.plot(history.history['loss'])\n",
    "plt.plot(history.history['val_loss'])\n",
    "plt.title('model loss')\n",
    "plt.ylabel('loss')\n",
    "plt.xlabel('epoch')\n",
    "plt.legend(['train', 'test'], loc='upper left')\n",
    "plt.show()"
   ]
  },
  {
   "cell_type": "code",
   "execution_count": null,
   "id": "387aef6e",
   "metadata": {},
   "outputs": [],
   "source": []
  }
 ],
 "metadata": {
  "kernelspec": {
   "display_name": "Python 3 (ipykernel)",
   "language": "python",
   "name": "python3"
  },
  "language_info": {
   "codemirror_mode": {
    "name": "ipython",
    "version": 3
   },
   "file_extension": ".py",
   "mimetype": "text/x-python",
   "name": "python",
   "nbconvert_exporter": "python",
   "pygments_lexer": "ipython3",
   "version": "3.8.11"
  }
 },
 "nbformat": 4,
 "nbformat_minor": 5
}
